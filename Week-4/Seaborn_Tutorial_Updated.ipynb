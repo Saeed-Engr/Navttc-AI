{
 "cells": [
  {
   "cell_type": "markdown",
   "id": "45c7dcad",
   "metadata": {},
   "source": [
    "# 📘 Introduction to Seaborn\n",
    "This notebook demonstrates how to visualize data using Seaborn with a synthetic dataset that includes the following columns:\n",
    "- **Category**: A, B, or C\n",
    "- **Value1** and **Value2**: Random numerical data\n",
    "- **Group**: X or Y"
   ]
  },
  {
   "cell_type": "markdown",
   "id": "7ebd035f",
   "metadata": {},
   "source": [
    "## 📥 Load the Dataset"
   ]
  },
  {
   "cell_type": "code",
   "execution_count": null,
   "id": "6607b288",
   "metadata": {},
   "outputs": [],
   "source": [
    "import pandas as pd\n",
    "import seaborn as sns\n",
    "import matplotlib.pyplot as plt\n",
    "import numpy as np\n",
    "\n",
    "# Sample dataset simulating provided structure\n",
    "np.random.seed(42)\n",
    "data = pd.DataFrame({\n",
    "    'Category': np.random.choice(['A', 'B', 'C'], 100),\n",
    "    'Value1': np.random.normal(55, 10, 100),\n",
    "    'Value2': np.random.normal(30, 5, 100),\n",
    "    'Group': np.random.choice(['X', 'Y'], 100)\n",
    "})\n",
    "data.head()"
   ]
  },
  {
   "cell_type": "markdown",
   "id": "884e048f",
   "metadata": {},
   "source": [
    "## 📊 Distribution Plots\n",
    "Seaborn provides intuitive methods to understand data distribution."
   ]
  },
  {
   "cell_type": "markdown",
   "id": "007e7e01",
   "metadata": {},
   "source": [
    "### 🔹 distplot (replaced by `histplot`)\n",
    "Shows distribution of a single variable with histogram and KDE."
   ]
  },
  {
   "cell_type": "code",
   "execution_count": null,
   "id": "9a8b1ea7",
   "metadata": {},
   "outputs": [],
   "source": [
    "sns.histplot(data['Value1'], kde=True, color='skyblue')\n",
    "plt.title('Distribution of Value1')\n",
    "plt.xlabel('Value1')\n",
    "plt.show()"
   ]
  },
  {
   "cell_type": "markdown",
   "id": "1beacd9f",
   "metadata": {},
   "source": [
    "### 🔹 jointplot\n",
    "Shows scatter plot with marginal histograms."
   ]
  },
  {
   "cell_type": "code",
   "execution_count": null,
   "id": "319601fb",
   "metadata": {},
   "outputs": [],
   "source": [
    "sns.jointplot(x='Value1', y='Value2', data=data, kind='scatter')"
   ]
  },
  {
   "cell_type": "markdown",
   "id": "3e49b961",
   "metadata": {},
   "source": [
    "### 🔹 pairplot\n",
    "Plots pairwise relationships for numerical columns."
   ]
  },
  {
   "cell_type": "code",
   "execution_count": null,
   "id": "e0494956",
   "metadata": {},
   "outputs": [],
   "source": [
    "sns.pairplot(data, hue='Category')"
   ]
  },
  {
   "cell_type": "markdown",
   "id": "e1a2ed98",
   "metadata": {},
   "source": [
    "### 🔹 rugplot\n",
    "Adds little lines at each data point on x-axis."
   ]
  },
  {
   "cell_type": "code",
   "execution_count": null,
   "id": "3fafde2e",
   "metadata": {},
   "outputs": [],
   "source": [
    "sns.rugplot(data['Value1'], height=0.1, color='purple')\n",
    "plt.title('Rugplot of Value1')\n",
    "plt.show()"
   ]
  },
  {
   "cell_type": "markdown",
   "id": "f91528ad",
   "metadata": {},
   "source": [
    "### 🔹 kdeplot\n",
    "Kernel density estimate of a variable."
   ]
  },
  {
   "cell_type": "code",
   "execution_count": null,
   "id": "38bd9f2c",
   "metadata": {},
   "outputs": [],
   "source": [
    "sns.kdeplot(data['Value2'], shade=True, color='green')"
   ]
  },
  {
   "cell_type": "markdown",
   "id": "c38c6a49",
   "metadata": {},
   "source": [
    "## 🧩 Categorical Plots\n",
    "Explore categorical features with various plot types."
   ]
  },
  {
   "cell_type": "markdown",
   "id": "3bec75e5",
   "metadata": {},
   "source": [
    "### 🔸 boxplot\n",
    "Shows distribution through quartiles and outliers."
   ]
  },
  {
   "cell_type": "code",
   "execution_count": null,
   "id": "4d925a61",
   "metadata": {},
   "outputs": [],
   "source": [
    "sns.boxplot(x='Category', y='Value2', data=data, palette='Set3')"
   ]
  },
  {
   "cell_type": "markdown",
   "id": "22f1ebef",
   "metadata": {},
   "source": [
    "### 🔸 violinplot\n",
    "Similar to boxplot but shows kernel density."
   ]
  },
  {
   "cell_type": "code",
   "execution_count": null,
   "id": "88109544",
   "metadata": {},
   "outputs": [],
   "source": [
    "sns.violinplot(x='Category', y='Value1', data=data, palette='husl')"
   ]
  },
  {
   "cell_type": "markdown",
   "id": "53928aaa",
   "metadata": {},
   "source": [
    "### 🔸 stripplot\n",
    "Jittered scatter plot for categorical data."
   ]
  },
  {
   "cell_type": "code",
   "execution_count": null,
   "id": "be3e79d8",
   "metadata": {},
   "outputs": [],
   "source": [
    "sns.stripplot(x='Category', y='Value1', data=data, jitter=True, color='black')"
   ]
  },
  {
   "cell_type": "markdown",
   "id": "86880051",
   "metadata": {},
   "source": [
    "### 🔸 swarmplot\n",
    "Better version of stripplot, avoids overlapping points."
   ]
  },
  {
   "cell_type": "code",
   "execution_count": null,
   "id": "c57f9c98",
   "metadata": {},
   "outputs": [],
   "source": [
    "sns.swarmplot(x='Category', y='Value1', data=data)"
   ]
  },
  {
   "cell_type": "markdown",
   "id": "2b3ab3cf",
   "metadata": {},
   "source": [
    "### 🔸 barplot\n",
    "Displays mean value of variable with error bars."
   ]
  },
  {
   "cell_type": "code",
   "execution_count": null,
   "id": "10bbc9e9",
   "metadata": {},
   "outputs": [],
   "source": [
    "sns.barplot(x='Category', y='Value1', data=data, ci='sd', palette='muted')"
   ]
  },
  {
   "cell_type": "markdown",
   "id": "890c27d6",
   "metadata": {},
   "source": [
    "### 🔸 countplot\n",
    "Shows counts of observations in each category."
   ]
  },
  {
   "cell_type": "code",
   "execution_count": null,
   "id": "3c12464f",
   "metadata": {},
   "outputs": [],
   "source": [
    "sns.countplot(x='Category', data=data, palette='coolwarm')"
   ]
  },
  {
   "cell_type": "markdown",
   "id": "064b465a",
   "metadata": {},
   "source": [
    "## 🔢 Matrix Plots\n",
    "Useful for correlation and pivoted data visualization."
   ]
  },
  {
   "cell_type": "markdown",
   "id": "f77a2f10",
   "metadata": {},
   "source": [
    "### 🔹 Heatmap\n",
    "Color-coded matrix to show correlation."
   ]
  },
  {
   "cell_type": "code",
   "execution_count": null,
   "id": "8223e084",
   "metadata": {},
   "outputs": [],
   "source": [
    "corr = data[['Value1', 'Value2']].corr()\n",
    "sns.heatmap(corr, annot=True, cmap='coolwarm')\n",
    "plt.title('Correlation Heatmap')\n",
    "plt.show()"
   ]
  }
 ],
 "metadata": {},
 "nbformat": 4,
 "nbformat_minor": 5
}
