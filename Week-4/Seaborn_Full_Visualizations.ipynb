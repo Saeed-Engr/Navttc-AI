{
 "cells": [
  {
   "cell_type": "markdown",
   "id": "a69f00cc",
   "metadata": {},
   "source": [
    "# 📊 Introduction to Seaborn Visualization\n",
    "This notebook demonstrates various types of Seaborn plots using a random dataset with the following structure:\n",
    "\n",
    "- **Category**: A, B, or C\n",
    "- **Value1** and **Value2**: Random numeric values\n",
    "- **Group**: X or Y\n",
    "\n",
    "We will cover:\n",
    "- Distribution Plots\n",
    "- Categorical Data Plots\n",
    "- Matrix Plots"
   ]
  },
  {
   "cell_type": "markdown",
   "id": "96fb3263",
   "metadata": {},
   "source": [
    "## 🧾 Load the Dataset"
   ]
  },
  {
   "cell_type": "code",
   "execution_count": null,
   "id": "c4088b16",
   "metadata": {},
   "outputs": [],
   "source": [
    "import pandas as pd\n",
    "import seaborn as sns\n",
    "import matplotlib.pyplot as plt\n",
    "\n",
    "# Load the dataset\n",
    "data = pd.read_csv('updated_random_seaborn_data.csv')\n",
    "data.head()"
   ]
  },
  {
   "cell_type": "markdown",
   "id": "c619427f",
   "metadata": {},
   "source": [
    "## 🔹 Distribution Plots"
   ]
  },
  {
   "cell_type": "markdown",
   "id": "2057400c",
   "metadata": {},
   "source": [
    "### `distplot` (deprecated, replaced by `histplot`)\n",
    "Displays the distribution of a dataset along with a kernel density estimate (KDE)."
   ]
  },
  {
   "cell_type": "code",
   "execution_count": null,
   "id": "26ff9cc0",
   "metadata": {},
   "outputs": [],
   "source": [
    "sns.histplot(data['Value1'], kde=True, color='purple')\n",
    "plt.title('Distribution of Value1')\n",
    "plt.xlabel('Value1')\n",
    "plt.ylabel('Frequency')\n",
    "plt.show()"
   ]
  },
  {
   "cell_type": "markdown",
   "id": "ae5dfc76",
   "metadata": {},
   "source": [
    "### `jointplot`\n",
    "Shows the relationship between two variables and their distributions."
   ]
  },
  {
   "cell_type": "code",
   "execution_count": null,
   "id": "82ba7b91",
   "metadata": {},
   "outputs": [],
   "source": [
    "sns.jointplot(x='Value1', y='Value2', data=data, kind='scatter')"
   ]
  },
  {
   "cell_type": "markdown",
   "id": "69a77e46",
   "metadata": {},
   "source": [
    "### `pairplot`\n",
    "Visualizes pairwise relationships in a dataset."
   ]
  },
  {
   "cell_type": "code",
   "execution_count": null,
   "id": "631d3698",
   "metadata": {},
   "outputs": [],
   "source": [
    "sns.pairplot(data, hue='Category')"
   ]
  },
  {
   "cell_type": "markdown",
   "id": "26fbf333",
   "metadata": {},
   "source": [
    "### `rugplot` & `kdeplot`\n",
    "Rugplot draws dashes to show distribution. KDE shows the probability density."
   ]
  },
  {
   "cell_type": "code",
   "execution_count": null,
   "id": "6b1452ca",
   "metadata": {},
   "outputs": [],
   "source": [
    "sns.kdeplot(data['Value2'], fill=True, color='green')\n",
    "sns.rugplot(data['Value2'], color='black')\n",
    "plt.title('KDE & Rugplot of Value2')\n",
    "plt.show()"
   ]
  },
  {
   "cell_type": "markdown",
   "id": "d5583e06",
   "metadata": {},
   "source": [
    "## 🔹 Categorical Data Plots"
   ]
  },
  {
   "cell_type": "markdown",
   "id": "00263671",
   "metadata": {},
   "source": [
    "### `boxplot`\n",
    "Shows quartiles and outliers in data by category."
   ]
  },
  {
   "cell_type": "code",
   "execution_count": null,
   "id": "a9ecb12c",
   "metadata": {},
   "outputs": [],
   "source": [
    "sns.boxplot(x='Category', y='Value2', data=data)\n",
    "plt.title('Boxplot of Value2 by Category')\n",
    "plt.show()"
   ]
  },
  {
   "cell_type": "markdown",
   "id": "7087872c",
   "metadata": {},
   "source": [
    "### `violinplot`\n",
    "Shows kernel density estimates plus boxplot summary."
   ]
  },
  {
   "cell_type": "code",
   "execution_count": null,
   "id": "de198773",
   "metadata": {},
   "outputs": [],
   "source": [
    "sns.violinplot(x='Category', y='Value1', data=data)\n",
    "plt.title('Violin Plot of Value1 by Category')\n",
    "plt.show()"
   ]
  },
  {
   "cell_type": "markdown",
   "id": "b5a6419c",
   "metadata": {},
   "source": [
    "### `stripplot`\n",
    "Shows individual data points."
   ]
  },
  {
   "cell_type": "code",
   "execution_count": null,
   "id": "412e09ca",
   "metadata": {},
   "outputs": [],
   "source": [
    "sns.stripplot(x='Category', y='Value2', data=data, jitter=True)\n",
    "plt.title('Strip Plot of Value2 by Category')\n",
    "plt.show()"
   ]
  },
  {
   "cell_type": "markdown",
   "id": "d52442a7",
   "metadata": {},
   "source": [
    "### `swarmplot`\n",
    "Similar to stripplot but avoids overlapping points."
   ]
  },
  {
   "cell_type": "code",
   "execution_count": null,
   "id": "16b905ca",
   "metadata": {},
   "outputs": [],
   "source": [
    "sns.swarmplot(x='Category', y='Value1', data=data)\n",
    "plt.title('Swarm Plot of Value1 by Category')\n",
    "plt.show()"
   ]
  },
  {
   "cell_type": "markdown",
   "id": "7300db5d",
   "metadata": {},
   "source": [
    "### `barplot`\n",
    "Displays mean of values for each category."
   ]
  },
  {
   "cell_type": "code",
   "execution_count": null,
   "id": "40268c52",
   "metadata": {},
   "outputs": [],
   "source": [
    "sns.barplot(x='Category', y='Value1', data=data, ci=None)\n",
    "plt.title('Bar Plot of Average Value1 by Category')\n",
    "plt.show()"
   ]
  },
  {
   "cell_type": "markdown",
   "id": "209caa7d",
   "metadata": {},
   "source": [
    "### `countplot`\n",
    "Counts frequency of categories."
   ]
  },
  {
   "cell_type": "code",
   "execution_count": null,
   "id": "afc9d789",
   "metadata": {},
   "outputs": [],
   "source": [
    "sns.countplot(x='Category', data=data)\n",
    "plt.title('Count of Each Category')\n",
    "plt.show()"
   ]
  },
  {
   "cell_type": "markdown",
   "id": "b792fc94",
   "metadata": {},
   "source": [
    "## 🔹 Matrix Plots"
   ]
  },
  {
   "cell_type": "markdown",
   "id": "661e4086",
   "metadata": {},
   "source": [
    "### `heatmap`\n",
    "Displays correlation between numerical values."
   ]
  },
  {
   "cell_type": "code",
   "execution_count": null,
   "id": "eaa14470",
   "metadata": {},
   "outputs": [],
   "source": [
    "corr = data[['Value1', 'Value2']].corr()\n",
    "sns.heatmap(corr, annot=True, cmap='coolwarm')\n",
    "plt.title('Correlation Heatmap of Value1 and Value2')\n",
    "plt.show()"
   ]
  }
 ],
 "metadata": {},
 "nbformat": 4,
 "nbformat_minor": 5
}
