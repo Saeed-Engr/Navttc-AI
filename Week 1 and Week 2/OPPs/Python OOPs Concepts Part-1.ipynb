{
 "cells": [
  {
   "cell_type": "markdown",
   "id": "3227febd",
   "metadata": {},
   "source": [
    "# Object Oriented Programming"
   ]
  },
  {
   "cell_type": "markdown",
   "id": "8c9307f8",
   "metadata": {},
   "source": [
    "Object Oriented Programming is a fundamental concept in Python, empowering developers to build modular, maintainable, and scalable applications. By understanding the core OOP principles (classes, objects, inheritance, encapsulation, polymorphism, and abstraction), programmers can leverage the full potential of Python OOP capabilities to design elegant and efficient solutions to complex problems.\n",
    "\n",
    "OOPs is a way of organizing code that uses objects and classes to represent real-world entities and their behavior. In OOPs, object has attributes thing that has specific data and can perform certain actions using methods.\n",
    "\n",
    "OOPs Concepts in Python\n",
    "-\n",
    "- Class in Python\n",
    "- Objects in Python\n",
    "- Polymorphism in Python\n",
    "- Encapsulation in Python\n",
    "- Inheritance in Python\n",
    "- Data Abstraction in Python"
   ]
  },
  {
   "cell_type": "code",
   "execution_count": null,
   "id": "18eaa8bd",
   "metadata": {},
   "outputs": [],
   "source": []
  },
  {
   "attachments": {
    "Types-of-OOPS-2.png": {
     "image/png": "[encoded data removed]"
    }
   },
   "cell_type": "markdown",
   "id": "cba14641",
   "metadata": {},
   "source": [
    "![Types-of-OOPS-2.png](attachment:Types-of-OOPS-2.png)"
   ]
  },
  {
   "cell_type": "markdown",
   "id": "f407803b",
   "metadata": {},
   "source": [
    "Python Class\n",
    "-\n",
    "A class is a collection of objects. Classes are blueprints for creating objects. A class defines a set of attributes and methods that the created objects (instances) can have.\n",
    "\n",
    "Some points on Python class:  \n",
    "-\n",
    "- Classes are created by keyword class.\n",
    "- Attributes are the variables that belong to a class.\n",
    "- Attributes are always public and can be accessed using the dot (.) operator. Example: Myclass.Myattribute"
   ]
  },
  {
   "cell_type": "markdown",
   "id": "3d33341c",
   "metadata": {},
   "source": [
    "Python Classes and Objects\n",
    "-\n",
    "A class in Python is a user-defined template for creating objects. It bundles data and functions together, making it easier to manage and use them. When we create a new class, we define a new type of object. We can then create multiple instances of this object type.\n",
    "\n",
    "Classes are created using class keyword. Attributes are variables defined inside the class and represent the properties of the class. Attributes can be accessed using the dot . operator (e.g., MyClass.my_attribute).\n",
    "\n",
    "Create a Class\n",
    "-\n"
   ]
  },
  {
   "cell_type": "code",
   "execution_count": 2,
   "id": "c9a56bc8",
   "metadata": {},
   "outputs": [],
   "source": [
    "# define a class\n",
    "class Dog:\n",
    "    sound = \"bark\"  # class attribute\n"
   ]
  },
  {
   "cell_type": "markdown",
   "id": "c3ebe0ca",
   "metadata": {},
   "source": [
    "Create Object\n",
    "-\n",
    "An Object is an instance of a Class. It represents a specific implementation of the class and holds its own data.\n",
    "\n",
    "Now, let’s create an object from Dog class"
   ]
  },
  {
   "cell_type": "code",
   "execution_count": 1,
   "id": "e8706892",
   "metadata": {},
   "outputs": [
    {
     "name": "stdout",
     "output_type": "stream",
     "text": [
      "bark\n"
     ]
    }
   ],
   "source": [
    "class Dog:\n",
    "    sound = \"bark\" \n",
    "\n",
    "# Create an object from the class\n",
    "dog1 = Dog()\n",
    "\n",
    "# Access the class attribute\n",
    "print(dog1.sound)\n"
   ]
  },
  {
   "cell_type": "markdown",
   "id": "345df836",
   "metadata": {},
   "source": [
    "sound attribute is a class attribute. It is shared across all instances of Dog class, so can be directly accessed through instance dog1.\n",
    "\n",
    "Using __init__() Function\n",
    "-\n",
    "In Python, class has __init__() function. It automatically initializes object attributes when an object is created."
   ]
  },
  {
   "cell_type": "code",
   "execution_count": 2,
   "id": "29c41253",
   "metadata": {},
   "outputs": [],
   "source": [
    "class Dog:\n",
    "    species = \"Canine\"  # Class attribute\n",
    "\n",
    "    def __init__(self, name, age):\n",
    "        self.name = name  # Instance attribute\n",
    "        self.age = age  # Instance attribute\n"
   ]
  },
  {
   "cell_type": "markdown",
   "id": "f4d04405",
   "metadata": {},
   "source": [
    "Explanation:\n",
    "-\n",
    "- class Dog: Defines a class named Dog.\n",
    "- species: A class attribute shared by all instances of the class.\n",
    "- __init__ method: Initializes the name and age attributes when a new object is created.\n",
    "\n",
    "Initiate Object with __init__\n",
    "-"
   ]
  },
  {
   "cell_type": "code",
   "execution_count": 1,
   "id": "40714e7b",
   "metadata": {},
   "outputs": [
    {
     "name": "stdout",
     "output_type": "stream",
     "text": [
      "Buddy\n",
      "Canine\n",
      "3\n"
     ]
    }
   ],
   "source": [
    "class Dog:\n",
    "    species = \"Canine\"  # Class attribute\n",
    "\n",
    "    def __init__(self, name, age):\n",
    "        self.name = name  # Instance attribute\n",
    "        self.age = age  # Instance attribute\n",
    "\n",
    "# Creating an object of the Dog class\n",
    "dog1 = Dog(\"Buddy\", 3)\n",
    "\n",
    "\n",
    "print(dog1.name)  # Output: Buddy\n",
    "print(dog1.species)  # Output: Canine\n",
    "#print(dog1.age)"
   ]
  },
  {
   "cell_type": "markdown",
   "id": "8b676a7d",
   "metadata": {},
   "source": [
    "Explanation:\n",
    "-\n",
    "- dog1 = Dog(“Buddy”, 3): Creates an object of the Dog class with name as “Buddy” and age as 3.\n",
    "- dog1.name: Accesses the instance attribute name of the dog1 object.\n",
    "- dog1.species: Accesses the class attribute species of the dog1 object.\n",
    "    \n",
    "Self Parameter\n",
    "-\n",
    "self parameter is a reference to the current instance of the class. It allows us to access the attributes and methods of the object."
   ]
  },
  {
   "cell_type": "code",
   "execution_count": 7,
   "id": "962ad769",
   "metadata": {},
   "outputs": [
    {
     "name": "stdout",
     "output_type": "stream",
     "text": [
      "Buddy is barking!\n"
     ]
    }
   ],
   "source": [
    "class Dog:\n",
    "    def __init__(self, name, age):  \n",
    "        self.name = name \n",
    "        self.age = age\n",
    "\n",
    "    def bark(self): \n",
    "        print(f\"{self.name} is barking!\")\n",
    "\n",
    "# Creating an instance of Dog\n",
    "dog1 = Dog(\"Buddy\", 3)\n",
    "dog1.bark() \n"
   ]
  },
  {
   "cell_type": "markdown",
   "id": "8247b238",
   "metadata": {},
   "source": [
    "Explanation:\n",
    "-\n",
    "- Inside bark(), self.name accesses the specific dog’s name and prints it.\n",
    "- When we call dog1.bark(), Python automatically passes dog1 as self, allowing access to its attributes.\n"
   ]
  },
  {
   "cell_type": "markdown",
   "id": "79a43178",
   "metadata": {},
   "source": [
    "# __str__ Method\n",
    "\n",
    "__str__ method in Python allows us to define a custom string representation of an object. By default, when we print an object or convert it to a string using str(), Python uses the default implementation, which returns a string like <__main__.ClassName object at 0x00000123>."
   ]
  },
  {
   "cell_type": "code",
   "execution_count": 8,
   "id": "0f28c86f",
   "metadata": {},
   "outputs": [
    {
     "name": "stdout",
     "output_type": "stream",
     "text": [
      "Buddy is 3 years old.\n",
      "Charlie is 5 years old.\n"
     ]
    }
   ],
   "source": [
    "class Dog:\n",
    "    def __init__(self, name, age):\n",
    "        self.name = name\n",
    "        self.age = age\n",
    "\n",
    "    def __str__(self):\n",
    "        return f\"{self.name} is {self.age} years old.\"  # Correct: Returning a string\n",
    "      \n",
    "dog1 = Dog(\"Buddy\", 3)\n",
    "dog2 = Dog(\"Charlie\", 5)\n",
    "\n",
    "print(dog1)  \n",
    "print(dog2)  \n"
   ]
  },
  {
   "cell_type": "markdown",
   "id": "a984e820",
   "metadata": {},
   "source": [
    "Explanation:\n",
    "-\n",
    "* __str__ Implementation: Defined as a method in the Dog class. Uses the self parameter to access the instance’s attributes (name and age).\n",
    "* Readable Output: When print(dog1) is called, Python automatically uses the __str__ method to get a string representation of the object. Without __str__, calling print(dog1) would produce something like <__main__.Dog object at 0x00000123>."
   ]
  },
  {
   "cell_type": "markdown",
   "id": "7bbbed4c",
   "metadata": {},
   "source": [
    "# Class and Instance Variables in Python\n"
   ]
  },
  {
   "cell_type": "markdown",
   "id": "c2250bad",
   "metadata": {},
   "source": [
    "\n",
    "In Python, variables defined in a class can be either class variables or instance variables, and understanding the distinction between them is crucial for object-oriented programming.\n",
    "\n",
    "Class Variables\n",
    "-\n",
    "These are the variables that are shared across all instances of a class. It is defined at the class level, outside any methods. All objects of the class share the same value for a class variable unless explicitly overridden in an object.\n",
    "\n",
    "Instance Variables\n",
    "-\n",
    "Variables that are unique to each instance (object) of a class. These are defined within __init__ method or other instance methods. Each object maintains its own copy of instance variables, independent of other objects.\n",
    "\n",
    "Example:\n",
    "-"
   ]
  },
  {
   "cell_type": "code",
   "execution_count": 9,
   "id": "86a7ce62",
   "metadata": {},
   "outputs": [
    {
     "name": "stdout",
     "output_type": "stream",
     "text": [
      "Canine\n",
      "Buddy\n",
      "Charlie\n",
      "Max\n",
      "Feline\n",
      "Feline\n"
     ]
    }
   ],
   "source": [
    "class Dog:\n",
    "    # Class variable\n",
    "    species = \"Canine\"\n",
    "\n",
    "    def __init__(self, name, age):\n",
    "        # Instance variables\n",
    "        self.name = name\n",
    "        self.age = age\n",
    "\n",
    "# Create objects\n",
    "dog1 = Dog(\"Buddy\", 3)\n",
    "dog2 = Dog(\"Charlie\", 5)\n",
    "\n",
    "# Access class and instance variables\n",
    "print(dog1.species)  # (Class variable)\n",
    "print(dog1.name)     # (Instance variable)\n",
    "print(dog2.name)     # (Instance variable)\n",
    "\n",
    "# Modify instance variables\n",
    "dog1.name = \"Max\"\n",
    "print(dog1.name)     # (Updated instance variable)\n",
    "\n",
    "# Modify class variable\n",
    "Dog.species = \"Feline\"\n",
    "print(dog1.species)  # (Updated class variable)\n",
    "print(dog2.species)  \n"
   ]
  },
  {
   "cell_type": "markdown",
   "id": "f6ac5b1a",
   "metadata": {},
   "source": [
    "Explanation:\n",
    "-\n",
    "* Class Variable (species): Shared by all instances of the class. Changing Dog.species affects all objects, as it’s a property of the class itself.\n",
    "* Instance Variables (name, age): Defined in the __init__ method. Unique to each instance (e.g., dog1.name and dog2.name are different).\n",
    "* Accessing Variables: Class variables can be accessed via the class name (Dog.species) or an object (dog1.species). Instance variables are accessed via the object (dog1.name).\n",
    "* Updating Variables: Changing Dog.species affects all instances. Changing dog1.name only affects dog1 and does not impact dog2."
   ]
  },
  {
   "cell_type": "markdown",
   "id": "47f63c93",
   "metadata": {},
   "source": [
    "Link: https://www.geeksforgeeks.org/python-classes-and-objects/"
   ]
  },
  {
   "cell_type": "markdown",
   "id": "9d437ca3",
   "metadata": {},
   "source": [
    "# Part-II"
   ]
  },
  {
   "cell_type": "markdown",
   "id": "b368b07c",
   "metadata": {},
   "source": [
    "Creating a Class\n",
    "-\n",
    "Here, the class keyword indicates that we are creating a class followed by name of the class (Dog in this case)."
   ]
  },
  {
   "cell_type": "code",
   "execution_count": 10,
   "id": "63f0787a",
   "metadata": {},
   "outputs": [],
   "source": [
    "class Dog:\n",
    "    species = \"Canine\"  # Class attribute\n",
    "\n",
    "    def __init__(self, name, age):\n",
    "        self.name = name  # Instance attribute\n",
    "        self.age = age  # Instance attribute\n"
   ]
  },
  {
   "cell_type": "markdown",
   "id": "d8878449",
   "metadata": {},
   "source": [
    "Explanation:\n",
    "-\n",
    "- class Dog: Defines a class named Dog.\n",
    "- species: A class attribute shared by all instances of the class.\n",
    "- __init__ method: Initializes the name and age attributes when a new object is created.- "
   ]
  },
  {
   "cell_type": "markdown",
   "id": "cc083ac3",
   "metadata": {},
   "source": [
    "Python Objects\n",
    "-\n",
    "An Object is an instance of a Class. It represents a specific implementation of the class and holds its own data.\n",
    "\n",
    "An object consists of:\n",
    "-\n",
    "- State: It is represented by the attributes and reflects the properties of an object.\n",
    "- Behavior: It is represented by the methods of an object and reflects the response of an object to other objects.\n",
    "- Identity: It gives a unique name to an object and enables one object to interact with other objects.\n",
    "    \n",
    "Creating Object\n",
    "-\n",
    "Creating an object in Python involves instantiating a class to create a new instance of that class. This process is also referred to as object instantiation."
   ]
  },
  {
   "cell_type": "code",
   "execution_count": 11,
   "id": "d3493ee8",
   "metadata": {},
   "outputs": [
    {
     "name": "stdout",
     "output_type": "stream",
     "text": [
      "Buddy\n",
      "Canine\n"
     ]
    }
   ],
   "source": [
    "class Dog:\n",
    "    species = \"Canine\"  # Class attribute\n",
    "\n",
    "    def __init__(self, name, age):\n",
    "        self.name = name  # Instance attribute\n",
    "        self.age = age  # Instance attribute\n",
    "\n",
    "# Creating an object of the Dog class\n",
    "dog1 = Dog(\"Buddy\", 3)\n",
    "\n",
    "print(dog1.name) \n",
    "print(dog1.species)\n"
   ]
  },
  {
   "cell_type": "markdown",
   "id": "439fbc08",
   "metadata": {},
   "source": [
    "Explanation:\n",
    "-\n",
    "- dog1 = Dog(“Buddy”, 3): Creates an object of the Dog class with name as “Buddy” and age as 3.\n",
    "- dog1.name: Accesses the instance attribute name of the dog1 object.\n",
    "- dog1.species: Accesses the class attribute species of the dog1 object."
   ]
  },
  {
   "cell_type": "markdown",
   "id": "ce8ad0d9",
   "metadata": {},
   "source": [
    "# Python Inheritance"
   ]
  },
  {
   "cell_type": "markdown",
   "id": "37211074",
   "metadata": {},
   "source": [
    "Inheritance allows a class (child class) to acquire properties and methods of another class (parent class). It supports hierarchical classification and promotes code reuse.\n",
    "\n",
    "Types of Inheritance:\n",
    "-\n",
    "- Single Inheritance: A child class inherits from a single parent class.\n",
    "- Multiple Inheritance: A child class inherits from more than one parent class.\n",
    "- Multilevel Inheritance: A child class inherits from a parent class, which in turn inherits from another class.\n",
    "- Hierarchical Inheritance: Multiple child classes inherit from a single parent class.\n",
    "- Hybrid Inheritance: A combination of two or more types of inheritance."
   ]
  },
  {
   "cell_type": "code",
   "execution_count": 12,
   "id": "883c5860",
   "metadata": {},
   "outputs": [
    {
     "name": "stdout",
     "output_type": "stream",
     "text": [
      "Dog's Name: Buddy\n",
      "Labrador woofs\n",
      "Dog's Name: Max\n",
      "MaxGuides the way!\n",
      "Dog's Name: Charlie\n",
      "Friendly!\n",
      "Golden Retriever Barks\n"
     ]
    }
   ],
   "source": [
    "# Single Inheritance\n",
    "class Dog:\n",
    "    def __init__(self, name):\n",
    "        self.name = name\n",
    "\n",
    "    def display_name(self):\n",
    "        print(f\"Dog's Name: {self.name}\")\n",
    "\n",
    "class Labrador(Dog):  # Single Inheritance\n",
    "    def sound(self):\n",
    "        print(\"Labrador woofs\")\n",
    "\n",
    "# Multilevel Inheritance\n",
    "class GuideDog(Labrador):  # Multilevel Inheritance\n",
    "    def guide(self):\n",
    "        print(f\"{self.name}Guides the way!\")\n",
    "\n",
    "# Multiple Inheritance\n",
    "class Friendly:\n",
    "    def greet(self):\n",
    "        print(\"Friendly!\")\n",
    "\n",
    "class GoldenRetriever(Dog, Friendly):  # Multiple Inheritance\n",
    "    def sound(self):\n",
    "        print(\"Golden Retriever Barks\")\n",
    "\n",
    "# Example Usage\n",
    "lab = Labrador(\"Buddy\")\n",
    "lab.display_name()\n",
    "lab.sound()\n",
    "\n",
    "guide_dog = GuideDog(\"Max\")\n",
    "guide_dog.display_name()\n",
    "guide_dog.guide()\n",
    "\n",
    "retriever = GoldenRetriever(\"Charlie\")\n",
    "retriever.display_name()\n",
    "retriever.greet()\n",
    "retriever.sound()\n"
   ]
  },
  {
   "cell_type": "markdown",
   "id": "78d1650f",
   "metadata": {},
   "source": [
    "Explanation:\n",
    "-\n",
    "- Single Inheritance: Labrador inherits Dog’s attributes and methods.\n",
    "- Multilevel Inheritance: GuideDog extends Labrador, inheriting both Dog and Labrador functionalities.\n",
    "- Multiple Inheritance: GoldenRetriever inherits from both Dog and Friendly."
   ]
  },
  {
   "cell_type": "markdown",
   "id": "dfb17020",
   "metadata": {},
   "source": [
    "# Python Polymorphism"
   ]
  },
  {
   "cell_type": "markdown",
   "id": "6012053e",
   "metadata": {},
   "source": [
    "\n",
    "Polymorphism allows methods to have the same name but behave differently based on the object’s context. It can be achieved through method overriding or overloading.\n",
    "\n",
    "Types of Polymorphism\n",
    "-\n",
    "- Compile-Time Polymorphism: This type of polymorphism is determined during the compilation of the program. It allows methods or operators with the same name to behave differently based on their input parameters or usage. It is commonly referred to as method or operator overloading.\n",
    "- Run-Time Polymorphism: This type of polymorphism is determined during the execution of the program. It occurs when a subclass provides a specific implementation for a method already defined in its parent class, commonly known as method overriding.\n",
    "Code Example:"
   ]
  },
  {
   "cell_type": "code",
   "execution_count": 13,
   "id": "049e4185",
   "metadata": {},
   "outputs": [
    {
     "name": "stdout",
     "output_type": "stream",
     "text": [
      "dog sound\n",
      "Labrador woofs\n",
      "Beagle Barks\n",
      "15\n",
      "30\n"
     ]
    }
   ],
   "source": [
    "# Parent Class\n",
    "class Dog:\n",
    "    def sound(self):\n",
    "        print(\"dog sound\")  # Default implementation\n",
    "\n",
    "# Run-Time Polymorphism: Method Overriding\n",
    "class Labrador(Dog):\n",
    "    def sound(self):\n",
    "        print(\"Labrador woofs\")  # Overriding parent method\n",
    "\n",
    "class Beagle(Dog):\n",
    "    def sound(self):\n",
    "        print(\"Beagle Barks\")  # Overriding parent method\n",
    "\n",
    "# Compile-Time Polymorphism: Method Overloading Mimic\n",
    "class Calculator:\n",
    "    def add(self, a, b=0, c=0):\n",
    "        return a + b + c  # Supports multiple ways to call add()\n",
    "\n",
    "# Run-Time Polymorphism\n",
    "dogs = [Dog(), Labrador(), Beagle()]\n",
    "for dog in dogs:\n",
    "    dog.sound()  # Calls the appropriate method based on the object type\n",
    "\n",
    "\n",
    "# Compile-Time Polymorphism (Mimicked using default arguments)\n",
    "calc = Calculator()\n",
    "print(calc.add(5, 10))  # Two arguments\n",
    "print(calc.add(5, 10, 15))  # Three arguments\n"
   ]
  },
  {
   "cell_type": "markdown",
   "id": "2e009681",
   "metadata": {},
   "source": [
    "Explanation:\n",
    "- \n",
    "1. Run-Time Polymorphism:\n",
    "-\n",
    "- Demonstrated using method overriding in the Dog class and its subclasses (Labrador and Beagle).\n",
    "- The correct sound method is invoked at runtime based on the actual type of the object in the list.\n",
    "\n",
    "2. Compile-Time Polymorphism:\n",
    "-\n",
    "- Python does not natively support method overloading. Instead, we use a single method (add) with default arguments to handle varying numbers of parameters.\n",
    "- Different behaviors (adding two or three numbers) are achieved based on how the method is called."
   ]
  },
  {
   "cell_type": "markdown",
   "id": "da97b8f1",
   "metadata": {},
   "source": [
    "# Python Encapsulation\n"
   ]
  },
  {
   "cell_type": "markdown",
   "id": "4d0a6ccf",
   "metadata": {},
   "source": [
    "\n",
    "Encapsulation is the bundling of data (attributes) and methods (functions) within a class, restricting access to some components to control interactions.\n",
    "\n",
    "A class is an example of encapsulation as it encapsulates all the data that is member functions, variables, etc."
   ]
  },
  {
   "attachments": {
    "encapsulation-in-python.png": {
     "image/png": "[encoded data removed]"
    }
   },
   "cell_type": "markdown",
   "id": "47ee22e5",
   "metadata": {},
   "source": [
    "![encapsulation-in-python.png](attachment:encapsulation-in-python.png)"
   ]
  },
  {
   "cell_type": "markdown",
   "id": "fa6b8113",
   "metadata": {},
   "source": [
    "Types of Encapsulation:\n",
    "-\n",
    "- Public Members: Accessible from anywhere.\n",
    "- Protected Members: Accessible within the class and its subclasses.\n",
    "- Private Members: Accessible only within the class.\n",
    "Code Example:"
   ]
  },
  {
   "cell_type": "code",
   "execution_count": 15,
   "id": "a2697097",
   "metadata": {},
   "outputs": [
    {
     "name": "stdout",
     "output_type": "stream",
     "text": [
      "Buddy\n",
      "Labrador\n",
      "3\n",
      "Name: Buddy, Breed: Labrador, Age: 5\n"
     ]
    }
   ],
   "source": [
    "class Dog:\n",
    "    def __init__(self, name, breed, age):\n",
    "        self.name = name  # Public attribute\n",
    "        self._breed = breed  # Protected attribute\n",
    "        self.__age = age  # Private attribute\n",
    "\n",
    "    # Public method\n",
    "    def get_info(self):\n",
    "        return f\"Name: {self.name}, Breed: {self._breed}, Age: {self.__age}\"\n",
    "\n",
    "    # Getter and Setter for private attribute\n",
    "    def get_age(self):\n",
    "        return self.__age\n",
    "\n",
    "    def set_age(self, age):\n",
    "        if age > 0:\n",
    "            self.__age = age\n",
    "        else:\n",
    "            print(\"Invalid age!\")\n",
    "\n",
    "# Example Usage\n",
    "dog = Dog(\"Buddy\", \"Labrador\", 3)\n",
    "\n",
    "# Accessing public member\n",
    "print(dog.name)  # Accessible\n",
    "\n",
    "# Accessing protected member\n",
    "print(dog._breed)  # Accessible but discouraged outside the class\n",
    "\n",
    "# Accessing private member using getter\n",
    "print(dog.get_age())\n",
    "\n",
    "# Modifying private member using setter\n",
    "dog.set_age(5)\n",
    "print(dog.get_info())\n"
   ]
  },
  {
   "cell_type": "markdown",
   "id": "ced6c612",
   "metadata": {},
   "source": [
    "Explanation:\n",
    "-\n",
    "- Public Members: Easily accessible, such as name.\n",
    "- Protected Members: Used with a single _, such as _breed. Access is discouraged but allowed in subclasses.\n",
    "- Private Members: Used with __, such as __age. Access requires getter and setter methods."
   ]
  },
  {
   "cell_type": "markdown",
   "id": "7a1b4df4",
   "metadata": {},
   "source": [
    "# Data Abstraction "
   ]
  },
  {
   "cell_type": "markdown",
   "id": "d3a2d6d7",
   "metadata": {},
   "source": [
    "\n",
    "Abstraction hides the internal implementation details while exposing only the necessary functionality. It helps focus on “what to do” rather than “how to do it.”\n",
    "\n",
    "Types of Abstraction:\n",
    "-\n",
    "- Partial Abstraction: Abstract class contains both abstract and concrete methods.\n",
    "- Full Abstraction: Abstract class contains only abstract methods (like interfaces).\n",
    "    \n",
    "Code Example:\n",
    "-"
   ]
  },
  {
   "cell_type": "code",
   "execution_count": 16,
   "id": "2a9c68b3",
   "metadata": {},
   "outputs": [
    {
     "name": "stdout",
     "output_type": "stream",
     "text": [
      "Dog's Name: Buddy\n",
      "Labrador Woof!\n",
      "Dog's Name: Charlie\n",
      "Beagle Bark!\n"
     ]
    }
   ],
   "source": [
    "from abc import ABC, abstractmethod\n",
    "\n",
    "class Dog(ABC):  # Abstract Class\n",
    "    def __init__(self, name):\n",
    "        self.name = name\n",
    "\n",
    "    @abstractmethod\n",
    "    def sound(self):  # Abstract Method\n",
    "        pass\n",
    "\n",
    "    def display_name(self):  # Concrete Method\n",
    "        print(f\"Dog's Name: {self.name}\")\n",
    "\n",
    "class Labrador(Dog):  # Partial Abstraction\n",
    "    def sound(self):\n",
    "        print(\"Labrador Woof!\")\n",
    "\n",
    "class Beagle(Dog):  # Partial Abstraction\n",
    "    def sound(self):\n",
    "        print(\"Beagle Bark!\")\n",
    "\n",
    "# Example Usage\n",
    "dogs = [Labrador(\"Buddy\"), Beagle(\"Charlie\")]\n",
    "for dog in dogs:\n",
    "    dog.display_name()  # Calls concrete method\n",
    "    dog.sound()  # Calls implemented abstract method\n"
   ]
  },
  {
   "cell_type": "markdown",
   "id": "813d79e1",
   "metadata": {},
   "source": [
    "Explanation:\n",
    "-\n",
    "- Partial Abstraction: The Dog class has both abstract (sound) and concrete (display_name) methods.\n",
    "- Why Use It: Abstraction ensures consistency in derived classes by enforcing the implementation of abstract methods."
   ]
  },
  {
   "cell_type": "code",
   "execution_count": null,
   "id": "1703d7c7",
   "metadata": {},
   "outputs": [],
   "source": []
  }
 ],
 "metadata": {
  "kernelspec": {
   "display_name": "Python 3 (ipykernel)",
   "language": "python",
   "name": "python3"
  },
  "language_info": {
   "codemirror_mode": {
    "name": "ipython",
    "version": 3
   },
   "file_extension": ".py",
   "mimetype": "text/x-python",
   "name": "python",
   "nbconvert_exporter": "python",
   "pygments_lexer": "ipython3",
   "version": "3.11.5"
  }
 },
 "nbformat": 4,
 "nbformat_minor": 5
}
