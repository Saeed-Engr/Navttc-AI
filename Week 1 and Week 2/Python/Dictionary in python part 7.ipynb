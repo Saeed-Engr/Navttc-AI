{
 "cells": [
  {
   "cell_type": "markdown",
   "id": "4acca49a",
   "metadata": {},
   "source": [
    "Creating dictionary\n",
    "-"
   ]
  },
  {
   "cell_type": "markdown",
   "id": "14a8028a",
   "metadata": {},
   "source": [
    "a dictionary is a series of paired keys and values.\n",
    "\n",
    "key:value   Pair\n",
    "\n",
    "Dictionary\n",
    "-\n",
    "Dictionaries are used to store data values in key:value pairs.\n",
    "\n",
    "A dictionary is a collection which is ordered*, changeable and do not allow duplicates."
   ]
  },
  {
   "cell_type": "markdown",
   "id": "6845f0df",
   "metadata": {},
   "source": [
    "Dictionary Methods\n",
    "-\n",
    "Python has a set of built-in methods that you can use on dictionaries.\n",
    "\n",
    "Method\tDescription\n",
    "- clear()\tRemoves all the elements from the dictionary\n",
    "- copy()\tReturns a copy of the dictionary\n",
    "- fromkeys()\tReturns a dictionary with the specified keys and value\n",
    "- get()\tReturns the value of the specified key\n",
    "- items()\tReturns a list containing a tuple for each key value pair\n",
    "- keys()\tReturns a list containing the dictionary's keys\n",
    "- pop()\tRemoves the element with the specified key"
   ]
  },
  {
   "cell_type": "code",
   "execution_count": null,
   "id": "9571083a",
   "metadata": {},
   "outputs": [],
   "source": [
    " #   \"name\" : \"Saeed\", "
   ]
  },
  {
   "cell_type": "code",
   "execution_count": null,
   "id": "ab7cd87b",
   "metadata": {},
   "outputs": [],
   "source": [
    "saeed={\"name\":\"saeed\",\"age\":20,\"addres\":\"lodhran\",\"email\":\"abc@gmail.com\"}\n"
   ]
  },
  {
   "cell_type": "code",
   "execution_count": null,
   "id": "9cccb2b4",
   "metadata": {},
   "outputs": [],
   "source": [
    "saeed"
   ]
  },
  {
   "cell_type": "code",
   "execution_count": null,
   "id": "dc7ddb92",
   "metadata": {},
   "outputs": [],
   "source": [
    "saeed[\"email\"]\n"
   ]
  },
  {
   "cell_type": "code",
   "execution_count": null,
   "id": "9a7de995",
   "metadata": {},
   "outputs": [],
   "source": [
    "saeed[\"age\"]"
   ]
  },
  {
   "cell_type": "code",
   "execution_count": null,
   "id": "1d5878bf",
   "metadata": {},
   "outputs": [],
   "source": []
  },
  {
   "cell_type": "code",
   "execution_count": null,
   "id": "3f7323db",
   "metadata": {},
   "outputs": [],
   "source": []
  },
  {
   "cell_type": "markdown",
   "id": "3f898579",
   "metadata": {},
   "source": [
    "# Adding value in Dictionary"
   ]
  },
  {
   "cell_type": "code",
   "execution_count": null,
   "id": "ece0307f",
   "metadata": {},
   "outputs": [],
   "source": [
    "saeed"
   ]
  },
  {
   "cell_type": "code",
   "execution_count": null,
   "id": "d97def22",
   "metadata": {},
   "outputs": [],
   "source": [
    "saeed[\"class\"] =\"mcs\"\n",
    "\n",
    "print(saeed)"
   ]
  },
  {
   "cell_type": "code",
   "execution_count": null,
   "id": "72d96dc6",
   "metadata": {},
   "outputs": [],
   "source": [
    "saeed[\"ai\"]=\"faisalabad\"\n",
    "\n",
    "saeed"
   ]
  },
  {
   "cell_type": "code",
   "execution_count": null,
   "id": "bfa1f985",
   "metadata": {},
   "outputs": [],
   "source": []
  },
  {
   "cell_type": "code",
   "execution_count": null,
   "id": "578aace0",
   "metadata": {},
   "outputs": [],
   "source": []
  },
  {
   "cell_type": "markdown",
   "id": "6d739bc0",
   "metadata": {},
   "source": [
    "# Update a key value in dictionary"
   ]
  },
  {
   "cell_type": "code",
   "execution_count": null,
   "id": "1387df96",
   "metadata": {},
   "outputs": [],
   "source": [
    "saeed"
   ]
  },
  {
   "cell_type": "code",
   "execution_count": null,
   "id": "83b4e739",
   "metadata": {},
   "outputs": [],
   "source": [
    "saeed[\"class\"]=\"mastre in computer science\"\n"
   ]
  },
  {
   "cell_type": "code",
   "execution_count": null,
   "id": "36e17997",
   "metadata": {},
   "outputs": [],
   "source": [
    "saeed"
   ]
  },
  {
   "cell_type": "code",
   "execution_count": null,
   "id": "c0c5f177",
   "metadata": {},
   "outputs": [],
   "source": []
  },
  {
   "cell_type": "code",
   "execution_count": null,
   "id": "df1d167e",
   "metadata": {},
   "outputs": [],
   "source": []
  },
  {
   "cell_type": "markdown",
   "id": "2e63edeb",
   "metadata": {},
   "source": [
    "# ACCESS VALUE IN DICTIONARY\n"
   ]
  },
  {
   "cell_type": "code",
   "execution_count": null,
   "id": "fe5ff8f1",
   "metadata": {},
   "outputs": [],
   "source": [
    "saeed"
   ]
  },
  {
   "cell_type": "code",
   "execution_count": null,
   "id": "93b6b18f",
   "metadata": {},
   "outputs": [],
   "source": [
    "saeed[\"class\"]\n"
   ]
  },
  {
   "cell_type": "code",
   "execution_count": 1,
   "id": "42f56202",
   "metadata": {},
   "outputs": [],
   "source": [
    "thisdict = {\n",
    "  \"brand\": \"Ford\",\n",
    "  \"model\": \"Mustang\",\n",
    "  \"year\": 1964\n",
    "}\n",
    "x = thisdict[\"model\"]"
   ]
  },
  {
   "cell_type": "code",
   "execution_count": 2,
   "id": "d9a1ac9e",
   "metadata": {},
   "outputs": [
    {
     "data": {
      "text/plain": [
       "dict_keys(['brand', 'model', 'year'])"
      ]
     },
     "execution_count": 2,
     "metadata": {},
     "output_type": "execute_result"
    }
   ],
   "source": [
    "thisdict.keys()\n"
   ]
  },
  {
   "cell_type": "code",
   "execution_count": 4,
   "id": "c4e45348",
   "metadata": {},
   "outputs": [
    {
     "data": {
      "text/plain": [
       "dict_items([('brand', 'Ford'), ('model', 'Mustang'), ('year', 1964)])"
      ]
     },
     "execution_count": 4,
     "metadata": {},
     "output_type": "execute_result"
    }
   ],
   "source": [
    "thisdict.items()"
   ]
  },
  {
   "cell_type": "code",
   "execution_count": 5,
   "id": "41d7561a",
   "metadata": {},
   "outputs": [
    {
     "name": "stdout",
     "output_type": "stream",
     "text": [
      "brand\n",
      "model\n",
      "year\n"
     ]
    }
   ],
   "source": [
    "for x in thisdict:\n",
    "  print(x)"
   ]
  },
  {
   "cell_type": "markdown",
   "id": "b383ce52",
   "metadata": {},
   "source": [
    "Copy()\n",
    "-"
   ]
  },
  {
   "cell_type": "code",
   "execution_count": 7,
   "id": "550e919c",
   "metadata": {},
   "outputs": [
    {
     "name": "stdout",
     "output_type": "stream",
     "text": [
      "{'brand': 'Ford', 'model': 'Mustang', 'year': 1964}\n"
     ]
    }
   ],
   "source": [
    "thisdict = {\n",
    "  \"brand\": \"Ford\",\n",
    "  \"model\": \"Mustang\",\n",
    "  \"year\": 1964\n",
    "}\n",
    "mydict = thisdict.copy()\n",
    "print(mydict)"
   ]
  },
  {
   "cell_type": "code",
   "execution_count": 8,
   "id": "6a7036f3",
   "metadata": {},
   "outputs": [
    {
     "name": "stdout",
     "output_type": "stream",
     "text": [
      "{'brand': 'Ford', 'model': 'Mustang', 'year': 1964}\n"
     ]
    }
   ],
   "source": [
    "thisdict = {\n",
    "  \"brand\": \"Ford\",\n",
    "  \"model\": \"Mustang\",\n",
    "  \"year\": 1964\n",
    "}\n",
    "mydict = dict(thisdict)\n",
    "print(mydict)"
   ]
  },
  {
   "cell_type": "markdown",
   "id": "7acfd072",
   "metadata": {},
   "source": [
    "# DELETING A VALUE"
   ]
  },
  {
   "cell_type": "code",
   "execution_count": null,
   "id": "418143f6",
   "metadata": {},
   "outputs": [],
   "source": [
    "saeed"
   ]
  },
  {
   "cell_type": "code",
   "execution_count": null,
   "id": "f124980e",
   "metadata": {},
   "outputs": [],
   "source": [
    "del saeed[\"email\"]\n"
   ]
  },
  {
   "cell_type": "code",
   "execution_count": null,
   "id": "ec3c2346",
   "metadata": {},
   "outputs": [],
   "source": []
  },
  {
   "cell_type": "markdown",
   "id": "2da8cac3",
   "metadata": {},
   "source": [
    "# key are in dictionary or not"
   ]
  },
  {
   "cell_type": "code",
   "execution_count": null,
   "id": "38bd7eee",
   "metadata": {},
   "outputs": [],
   "source": [
    "saeed"
   ]
  },
  {
   "cell_type": "code",
   "execution_count": null,
   "id": "542e5b03",
   "metadata": {},
   "outputs": [],
   "source": [
    "\"ai\" in saeed\n"
   ]
  },
  {
   "cell_type": "code",
   "execution_count": null,
   "id": "d5e6a6fb",
   "metadata": {},
   "outputs": [],
   "source": [
    "# NOTE:\n",
    "  #   in dictionary the key and value should be integer,float,& string."
   ]
  },
  {
   "cell_type": "markdown",
   "id": "dee698b7",
   "metadata": {},
   "source": [
    "Nested Dictionary\n",
    "-"
   ]
  },
  {
   "cell_type": "code",
   "execution_count": 9,
   "id": "4f8df871",
   "metadata": {},
   "outputs": [],
   "source": [
    "child1 = {\n",
    "  \"name\" : \"Emil\",\n",
    "  \"year\" : 2004\n",
    "}\n",
    "child2 = {\n",
    "  \"name\" : \"Tobias\",\n",
    "  \"year\" : 2007\n",
    "}\n",
    "child3 = {\n",
    "  \"name\" : \"Linus\",\n",
    "  \"year\" : 2011\n",
    "}\n",
    "\n",
    "myfamily = {\n",
    "  \"child1\" : child1,\n",
    "  \"child2\" : child2,\n",
    "  \"child3\" : child3\n",
    "}"
   ]
  },
  {
   "cell_type": "code",
   "execution_count": 10,
   "id": "98dbfedb",
   "metadata": {},
   "outputs": [
    {
     "data": {
      "text/plain": [
       "{'child1': {'name': 'Emil', 'year': 2004},\n",
       " 'child2': {'name': 'Tobias', 'year': 2007},\n",
       " 'child3': {'name': 'Linus', 'year': 2011}}"
      ]
     },
     "execution_count": 10,
     "metadata": {},
     "output_type": "execute_result"
    }
   ],
   "source": [
    "myfamily"
   ]
  },
  {
   "cell_type": "code",
   "execution_count": null,
   "id": "b258d9be",
   "metadata": {},
   "outputs": [],
   "source": []
  }
 ],
 "metadata": {
  "kernelspec": {
   "display_name": "Python 3 (ipykernel)",
   "language": "python",
   "name": "python3"
  },
  "language_info": {
   "codemirror_mode": {
    "name": "ipython",
    "version": 3
   },
   "file_extension": ".py",
   "mimetype": "text/x-python",
   "name": "python",
   "nbconvert_exporter": "python",
   "pygments_lexer": "ipython3",
   "version": "3.11.5"
  }
 },
 "nbformat": 4,
 "nbformat_minor": 5
}
