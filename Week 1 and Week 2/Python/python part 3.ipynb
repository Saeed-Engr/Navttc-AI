{
 "cells": [
  {
   "cell_type": "code",
   "execution_count": null,
   "id": "f484fe86",
   "metadata": {},
   "outputs": [],
   "source": []
  },
  {
   "cell_type": "markdown",
   "id": "fe54ad6a",
   "metadata": {},
   "source": [
    "# Python Basics to Advanced "
   ]
  },
  {
   "cell_type": "markdown",
   "id": "640f5d96",
   "metadata": {},
   "source": [
    "## 1- Python Basics\n",
    "\n",
    "\n",
    "\n",
    "#### Variables and Data Types (int, float, str, bool)\n",
    "\n",
    "1. **Introduction to Variables:**\n",
    "   - Variables are used to store information to be referenced and manipulated in a program.\n",
    "   - They are essentially containers for storing data values.\n",
    "\n",
    "2. **Common Data Types in Python:**\n",
    "   - **Integer (int):** Whole numbers without a decimal point.\n",
    "   - **Float (float):** Numbers with a decimal point.\n",
    "   - **String (str):** Sequence of characters enclosed in quotes.\n",
    "   - **Boolean (bool):** Represents True or False values.\n"
   ]
  },
  {
   "cell_type": "markdown",
   "id": "490e6ebc",
   "metadata": {},
   "source": [
    "### Examples of Each Data Type\n"
   ]
  },
  {
   "cell_type": "code",
   "execution_count": 2,
   "id": "9310427f",
   "metadata": {},
   "outputs": [
    {
     "name": "stdout",
     "output_type": "stream",
     "text": [
      "Age: 25\n",
      "Type: <class 'int'>\n",
      "\n",
      "Height: 5.9\n",
      "Type: <class 'float'>\n",
      "\n",
      "Name: Alice\n",
      "Type: <class 'str'>\n",
      "\n",
      "Is Student: True\n",
      "Type: <class 'bool'>\n"
     ]
    }
   ],
   "source": [
    "# Integer\n",
    "age = 25\n",
    "print(\"Age:\", age)\n",
    "print(\"Type:\", type(age))\n",
    "\n",
    "# Float\n",
    "height = 5.9\n",
    "print(\"\\nHeight:\", height)\n",
    "print(\"Type:\", type(height))\n",
    "\n",
    "# String\n",
    "name = \"Alice\"\n",
    "print(\"\\nName:\", name)\n",
    "print(\"Type:\", type(name))\n",
    "\n",
    "# Boolean\n",
    "is_student = True\n",
    "print(\"\\nIs Student:\", is_student)\n",
    "print(\"Type:\", type(is_student))"
   ]
  },
  {
   "cell_type": "markdown",
   "id": "93fb0c03",
   "metadata": {},
   "source": [
    "### Arithmetic Operations\n"
   ]
  },
  {
   "cell_type": "code",
   "execution_count": 4,
   "id": "730c9853",
   "metadata": {},
   "outputs": [
    {
     "name": "stdout",
     "output_type": "stream",
     "text": [
      "Addition: 15\n",
      "Subtraction: 5\n",
      "Multiplication: 50\n",
      "Division: 2.0\n",
      "Modulus: 0\n",
      "Floor Division: 2\n",
      "Exponentiation: 100000\n"
     ]
    }
   ],
   "source": [
    "#### Basic Operations (arithmetic, assignment, comparison)\n",
    "\n",
    "# Addition\n",
    "a = 10\n",
    "b = 5\n",
    "result = a + b\n",
    "print(\"Addition:\", result)\n",
    "\n",
    "# Subtraction\n",
    "result = a - b\n",
    "print(\"Subtraction:\", result)\n",
    "\n",
    "# Multiplication\n",
    "result = a * b\n",
    "print(\"Multiplication:\", result)\n",
    "\n",
    "# Division\n",
    "result = a / b\n",
    "print(\"Division:\", result)\n",
    "\n",
    "# Modulus (remainder)\n",
    "result = a % b\n",
    "print(\"Modulus:\", result)\n",
    "\n",
    "# Floor Division\n",
    "result = a // b\n",
    "print(\"Floor Division:\", result)\n",
    "\n",
    "# Exponentiation\n",
    "result = a ** b\n",
    "print(\"Exponentiation:\", result)\n"
   ]
  },
  {
   "cell_type": "markdown",
   "id": "3086608f",
   "metadata": {},
   "source": [
    "### Assignment Operations:\n"
   ]
  },
  {
   "cell_type": "code",
   "execution_count": null,
   "id": "fbc98209",
   "metadata": {},
   "outputs": [],
   "source": [
    "\n",
    "# Simple Assignment\n",
    "x = 10\n",
    "print(\"\\nInitial value of x:\", x)\n",
    "\n",
    "# Addition Assignment\n",
    "x += 5  # Equivalent to x = x + 5\n",
    "print(\"After x += 5:\", x)\n",
    "\n",
    "# Subtraction Assignment\n",
    "x -= 3  # Equivalent to x = x - 3\n",
    "print(\"After x -= 3:\", x)\n",
    "\n",
    "# Multiplication Assignment\n",
    "x *= 2  # Equivalent to x = x * 2\n",
    "print(\"After x *= 2:\", x)\n",
    "\n",
    "# Division Assignment\n",
    "x /= 4  # Equivalent to x = x / 4\n",
    "print(\"After x /= 4:\", x)\n"
   ]
  },
  {
   "cell_type": "markdown",
   "id": "c1a784f1",
   "metadata": {},
   "source": [
    "### Comparison Operations\n"
   ]
  },
  {
   "cell_type": "code",
   "execution_count": 5,
   "id": "c2c9418f",
   "metadata": {},
   "outputs": [
    {
     "name": "stdout",
     "output_type": "stream",
     "text": [
      "\n",
      "Is a equal to b? False\n",
      "Is a not equal to b? True\n",
      "Is a greater than b? False\n",
      "Is a less than b? True\n",
      "Is a greater than or equal to b? False\n",
      "Is a less than or equal to b? True\n"
     ]
    }
   ],
   "source": [
    "# Equality\n",
    "\n",
    "a = 10\n",
    "b = 20\n",
    "print(\"\\nIs a equal to b?\", a == b)\n",
    "\n",
    "# Inequality\n",
    "print(\"Is a not equal to b?\", a != b)\n",
    "\n",
    "# Greater than\n",
    "print(\"Is a greater than b?\", a > b)\n",
    "\n",
    "# Less than\n",
    "print(\"Is a less than b?\", a < b)\n",
    "\n",
    "# Greater than or equal to\n",
    "print(\"Is a greater than or equal to b?\", a >= b)\n",
    "\n",
    "# Less than or equal to\n",
    "print(\"Is a less than or equal to b?\", a <= b)"
   ]
  },
  {
   "cell_type": "markdown",
   "id": "3315e1a3",
   "metadata": {},
   "source": [
    "# 2- Strings and String Methods"
   ]
  },
  {
   "cell_type": "markdown",
   "id": "de31f595",
   "metadata": {},
   "source": [
    "### Creating and Manipulating Strings"
   ]
  },
  {
   "cell_type": "code",
   "execution_count": 6,
   "id": "f39f3995",
   "metadata": {},
   "outputs": [
    {
     "name": "stdout",
     "output_type": "stream",
     "text": [
      "Hello, World!\n",
      "Hello, World!\n"
     ]
    }
   ],
   "source": [
    "# Defining strings using single and double quotes\n",
    "\n",
    "single_quote_str = 'Hello, World!'\n",
    "double_quote_str = \"Hello, World!\"\n",
    "\n",
    "print(single_quote_str)\n",
    "print(double_quote_str)\n"
   ]
  },
  {
   "cell_type": "code",
   "execution_count": 7,
   "id": "5ffc5b66",
   "metadata": {},
   "outputs": [
    {
     "name": "stdout",
     "output_type": "stream",
     "text": [
      "First character: H\n",
      "Last character: o\n"
     ]
    }
   ],
   "source": [
    "# Accessing individual characters in a string\n",
    "\n",
    "sample_str = \"Hello\"\n",
    "print(\"First character:\", sample_str[0])\n",
    "print(\"Last character:\", sample_str[-1])\n"
   ]
  },
  {
   "cell_type": "code",
   "execution_count": 8,
   "id": "756a0197",
   "metadata": {},
   "outputs": [
    {
     "name": "stdout",
     "output_type": "stream",
     "text": [
      "Substring (0 to 4): Hello\n",
      "Substring (7 to end): World!\n",
      "Substring (start to -2): Hello, Worl\n"
     ]
    }
   ],
   "source": [
    "# Slicing strings to get substrings\n",
    "\n",
    "sample_str = \"Hello, World!\"\n",
    "print(\"Substring (0 to 4):\", sample_str[0:5])\n",
    "print(\"Substring (7 to end):\", sample_str[7:])\n",
    "print(\"Substring (start to -2):\", sample_str[:-2])\n"
   ]
  },
  {
   "cell_type": "markdown",
   "id": "2fea41d5",
   "metadata": {},
   "source": [
    "## Common String Methods"
   ]
  },
  {
   "cell_type": "markdown",
   "id": "84f19c45",
   "metadata": {},
   "source": [
    "### 1. len():"
   ]
  },
  {
   "cell_type": "code",
   "execution_count": 10,
   "id": "881547cf",
   "metadata": {},
   "outputs": [
    {
     "name": "stdout",
     "output_type": "stream",
     "text": [
      "Length of the string: 13\n"
     ]
    }
   ],
   "source": [
    "# Using len() to get the length of a string\n",
    "sample_str = \"Hello, World!\"\n",
    "print(\"Length of the string:\", len(sample_str))"
   ]
  },
  {
   "cell_type": "markdown",
   "id": "6d9496a1",
   "metadata": {},
   "source": [
    "### 2. upper():"
   ]
  },
  {
   "cell_type": "code",
   "execution_count": 12,
   "id": "9ae05c31",
   "metadata": {},
   "outputs": [
    {
     "name": "stdout",
     "output_type": "stream",
     "text": [
      "Uppercase: HELLO, WORLD!\n"
     ]
    }
   ],
   "source": [
    "# Converting a string to uppercase\n",
    "sample_str = \"Hello, World!\"\n",
    "print(\"Uppercase:\", sample_str.upper())\n"
   ]
  },
  {
   "cell_type": "markdown",
   "id": "90cdbfbf",
   "metadata": {},
   "source": [
    "### 3. lower():"
   ]
  },
  {
   "cell_type": "code",
   "execution_count": 13,
   "id": "b7ad8bb9",
   "metadata": {},
   "outputs": [
    {
     "name": "stdout",
     "output_type": "stream",
     "text": [
      "Lowercase: hello, world!\n"
     ]
    }
   ],
   "source": [
    "# Converting a string to lowercase\n",
    "sample_str = \"Hello, World!\"\n",
    "print(\"Lowercase:\", sample_str.lower())\n"
   ]
  },
  {
   "cell_type": "markdown",
   "id": "87e42cdd",
   "metadata": {},
   "source": [
    "### 4. replace():"
   ]
  },
  {
   "cell_type": "code",
   "execution_count": 14,
   "id": "348a0101",
   "metadata": {},
   "outputs": [
    {
     "name": "stdout",
     "output_type": "stream",
     "text": [
      "Replaced string: Hello, Python!\n"
     ]
    }
   ],
   "source": [
    "# Replacing a substring within a string\n",
    "sample_str = \"Hello, World!\"\n",
    "new_str = sample_str.replace(\"World\", \"Python\")\n",
    "print(\"Replaced string:\", new_str)\n"
   ]
  },
  {
   "cell_type": "markdown",
   "id": "e1ae88ab",
   "metadata": {},
   "source": [
    "### 5. find():"
   ]
  },
  {
   "cell_type": "code",
   "execution_count": 15,
   "id": "d8970722",
   "metadata": {},
   "outputs": [
    {
     "name": "stdout",
     "output_type": "stream",
     "text": [
      "Position of 'World': 7\n"
     ]
    }
   ],
   "source": [
    "# Finding the position of a substring within a string\n",
    "sample_str = \"Hello, World!\"\n",
    "position = sample_str.find(\"World\")\n",
    "print(\"Position of 'World':\", position)\n"
   ]
  },
  {
   "cell_type": "markdown",
   "id": "c2c3a654",
   "metadata": {},
   "source": [
    "### 6. strip():"
   ]
  },
  {
   "cell_type": "code",
   "execution_count": 16,
   "id": "f7b3cfc4",
   "metadata": {},
   "outputs": [
    {
     "name": "stdout",
     "output_type": "stream",
     "text": [
      "Stripped string: Hello, World!\n"
     ]
    }
   ],
   "source": [
    "# Removing leading and trailing whitespace\n",
    "sample_str = \"   Hello, World!   \"\n",
    "print(\"Stripped string:\", sample_str.strip())\n"
   ]
  },
  {
   "cell_type": "markdown",
   "id": "2515eafa",
   "metadata": {},
   "source": [
    "### 7. split():"
   ]
  },
  {
   "cell_type": "code",
   "execution_count": 17,
   "id": "625aa7a1",
   "metadata": {},
   "outputs": [
    {
     "name": "stdout",
     "output_type": "stream",
     "text": [
      "Split string: ['Hello', 'World!']\n"
     ]
    }
   ],
   "source": [
    "# Splitting a string into a list of substrings\n",
    "sample_str = \"Hello, World!\"\n",
    "split_str = sample_str.split(\", \")\n",
    "print(\"Split string:\", split_str)\n"
   ]
  },
  {
   "cell_type": "markdown",
   "id": "8053054e",
   "metadata": {},
   "source": [
    "## String Concatenation and Formatting\n"
   ]
  },
  {
   "cell_type": "markdown",
   "id": "6a77c0c2",
   "metadata": {},
   "source": [
    "### 1. Concatenating Strings:"
   ]
  },
  {
   "cell_type": "code",
   "execution_count": 18,
   "id": "bfa33bf3",
   "metadata": {},
   "outputs": [
    {
     "name": "stdout",
     "output_type": "stream",
     "text": [
      "Concatenated string: Hello, World!\n"
     ]
    }
   ],
   "source": [
    "# Concatenating strings using the + operator\n",
    "str1 = \"Hello\"\n",
    "str2 = \"World\"\n",
    "concatenated_str = str1 + \", \" + str2 + \"!\"\n",
    "print(\"Concatenated string:\", concatenated_str)\n"
   ]
  },
  {
   "cell_type": "markdown",
   "id": "e5e00104",
   "metadata": {},
   "source": [
    "### 2. Formatting Strings Using format():\n"
   ]
  },
  {
   "cell_type": "code",
   "execution_count": 19,
   "id": "a0cf2934",
   "metadata": {},
   "outputs": [
    {
     "name": "stdout",
     "output_type": "stream",
     "text": [
      "Formatted string using format(): Name: Alice, Age: 30\n"
     ]
    }
   ],
   "source": [
    "# Formatting strings using the format() method\n",
    "name = \"Alice\"\n",
    "age = 30\n",
    "formatted_str = \"Name: {}, Age: {}\".format(name, age)\n",
    "print(\"Formatted string using format():\", formatted_str)\n"
   ]
  },
  {
   "cell_type": "markdown",
   "id": "23399ba6",
   "metadata": {},
   "source": [
    "### 3. Formatting Strings Using F-strings"
   ]
  },
  {
   "cell_type": "code",
   "execution_count": 20,
   "id": "afe80eb1",
   "metadata": {},
   "outputs": [
    {
     "name": "stdout",
     "output_type": "stream",
     "text": [
      "Formatted string using f-strings: Name: Alice, Age: 30\n"
     ]
    }
   ],
   "source": [
    "# Formatting strings using f-strings\n",
    "name = \"Alice\"\n",
    "age = 30\n",
    "formatted_str = f\"Name: {name}, Age: {age}\"\n",
    "print(\"Formatted string using f-strings:\", formatted_str)\n"
   ]
  },
  {
   "cell_type": "markdown",
   "id": "2d58d252",
   "metadata": {},
   "source": [
    "# Explanation:\n",
    "\n",
    "## 1. Creating and Manipulating Strings:\n",
    "\n",
    "Strings can be defined using single or double quotes.\n",
    "Individual characters in a string can be accessed using indexing, where the first character is at index 0.\n",
    "Slicing allows extracting a substring from a string using a range of indices.\n",
    "\n",
    "### 2. Common String Methods:\n",
    "\n",
    "- len(): Returns the length of the string.\n",
    "- upper(): Converts all characters in the string to uppercase.\n",
    "- lower(): Converts all characters in the string to lowercase.\n",
    "- replace(): Replaces occurrences of a substring with another substring.\n",
    "- find(): Returns the lowest index of the substring if it is found in the string.\n",
    "- strip(): Removes leading and trailing whitespace.\n",
    "- split(): Splits the string into a list of substrings based on a specified delimiter.\n",
    "\n",
    "### 3. String Concatenation and Formatting:\n",
    "\n",
    "- Strings can be concatenated using the + operator.\n",
    "- The format() method allows inserting values into a string using placeholders {}.\n",
    "- F-strings (formatted string literals) provide a concise and readable way to include expressions inside string literals using {}."
   ]
  },
  {
   "cell_type": "code",
   "execution_count": null,
   "id": "f76e0f7d",
   "metadata": {},
   "outputs": [],
   "source": []
  }
 ],
 "metadata": {
  "kernelspec": {
   "display_name": "Python 3 (ipykernel)",
   "language": "python",
   "name": "python3"
  },
  "language_info": {
   "codemirror_mode": {
    "name": "ipython",
    "version": 3
   },
   "file_extension": ".py",
   "mimetype": "text/x-python",
   "name": "python",
   "nbconvert_exporter": "python",
   "pygments_lexer": "ipython3",
   "version": "3.11.5"
  }
 },
 "nbformat": 4,
 "nbformat_minor": 5
}
