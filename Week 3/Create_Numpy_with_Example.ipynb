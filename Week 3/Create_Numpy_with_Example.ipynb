{
 "cells": [
  {
   "cell_type": "code",
   "execution_count": null,
   "metadata": {},
   "outputs": [],
   "source": [
    "# Creating NumPy Arrays\n",
    "import numpy as np\n",
    "# From Python list\n",
    "arr1 = np.array([1, 2, 3, 4])\n",
    "# From built-in methods\n",
    "arr2 = np.zeros((2, 3))\n",
    "arr3 = np.ones((3, 2))\n",
    "arr4 = np.arange(0, 10, 2)\n",
    "arr5 = np.linspace(0, 1, 5)\n",
    "# From random\n",
    "arr6 = np.random.rand(2, 2)\n",
    "arr7 = np.random.randint(1, 10, size=(3, 3))"
   ]
  },
  {
   "cell_type": "code",
   "execution_count": null,
   "metadata": {},
   "outputs": [],
   "source": [
    "arr7"
   ]
  },
  {
   "cell_type": "code",
   "execution_count": null,
   "metadata": {},
   "outputs": [],
   "source": [
    "# Array Attributes and Methods\n",
    "print(\"Shape:\", arr7.shape)\n",
    "print(\"Data type:\", arr7.dtype)\n",
    "print(\"Size:\", arr7.size)\n",
    "print(\"Dimensions:\", arr7.ndim)\n",
    "print(\"Max:\", arr7.max())\n",
    "print(\"Min:\", arr7.min())\n",
    "print(\"Argmax:\", arr7.argmax())\n",
    "print(\"Argmin:\", arr7.argmin())\n",
    "reshaped = arr7.reshape(1, 9)\n",
    "print(\"Reshaped:\\n\", reshaped)"
   ]
  },
  {
   "cell_type": "code",
   "execution_count": null,
   "metadata": {},
   "outputs": [],
   "source": [
    "# Operations on Arrays\n",
    "arr_copy = arr7.copy()\n",
    "appended = np.append(arr1, [5, 6])\n",
    "inserted = np.insert(arr1, 1, 99)\n",
    "sorted_arr = np.sort(arr7, axis=1)\n",
    "deleted = np.delete(arr1, [1, 2])\n",
    "combined = np.concatenate((arr1, appended))\n",
    "split = np.split(arr4, 2)"
   ]
  },
  {
   "cell_type": "code",
   "execution_count": null,
   "metadata": {},
   "outputs": [],
   "source": [
    "# Data Loading & Saving\n",
    "np.save('array_file.npy', arr7)\n",
    "loaded_arr = np.load('array_file.npy')"
   ]
  },
  {
   "cell_type": "code",
   "execution_count": null,
   "metadata": {},
   "outputs": [],
   "source": [
    "# NumPy Indexing and Selection\n",
    "matrix = np.array([[10, 20, 30],\n",
    "                   [40, 50, 60]])\n",
    "print(\"Element at (1,1):\", matrix[1, 1])\n",
    "print(\"First row:\", matrix[0])\n",
    "print(\"Logical Selection:\", matrix[matrix > 30])"
   ]
  },
  {
   "cell_type": "code",
   "execution_count": null,
   "metadata": {},
   "outputs": [],
   "source": [
    "# Broadcasting and Type Casting\n",
    "broadcasted = matrix + 100\n",
    "casted = matrix.astype(float)"
   ]
  },
  {
   "cell_type": "code",
   "execution_count": null,
   "metadata": {},
   "outputs": [],
   "source": [
    "# Arithmetic Operations\n",
    "a = np.array([1, 2, 3])\n",
    "b = np.array([4, 5, 6])\n",
    "print(\"Add:\", a + b)\n",
    "print(\"Subtract:\", a - b)\n",
    "print(\"Multiply:\", a * b)\n",
    "print(\"Divide:\", a / b)\n",
    "print(\"Exponentiation:\", a ** 2)"
   ]
  },
  {
   "cell_type": "code",
   "execution_count": null,
   "metadata": {},
   "outputs": [],
   "source": [
    "# Universal Array Functions\n",
    "print(\"Square Root:\", np.sqrt(a))\n",
    "print(\"Exponential:\", np.exp(a))\n",
    "print(\"Maximum:\", np.maximum(a, b))"
   ]
  }
 ],
 "metadata": {
  "kernelspec": {
   "display_name": "Python 3",
   "language": "python",
   "name": "python3"
  },
  "language_info": {
   "name": "python",
   "version": "3.8"
  }
 },
 "nbformat": 4,
 "nbformat_minor": 2
}
