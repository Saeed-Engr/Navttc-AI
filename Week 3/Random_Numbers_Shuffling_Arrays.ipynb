{
 "cells": [
  {
   "cell_type": "code",
   "execution_count": 51,
   "metadata": {
    "id": "gVJuJ8pSmBrw"
   },
   "outputs": [],
   "source": [
    "import numpy as np"
   ]
  },
  {
   "cell_type": "code",
   "execution_count": 51,
   "metadata": {
    "id": "OaSIfLBAnSdo"
   },
   "outputs": [],
   "source": []
  },
  {
   "cell_type": "markdown",
   "metadata": {
    "id": "IV4lMxcVnZfn"
   },
   "source": [
    "Random Numbers in NumPy\n"
   ]
  },
  {
   "cell_type": "code",
   "execution_count": 52,
   "metadata": {
    "id": "GBm1CTtInarL"
   },
   "outputs": [],
   "source": [
    "from numpy import random\n"
   ]
  },
  {
   "cell_type": "code",
   "execution_count": 53,
   "metadata": {
    "id": "BEBpz0d8n6oE"
   },
   "outputs": [],
   "source": [
    "x = random.randint(100)\n"
   ]
  },
  {
   "cell_type": "code",
   "execution_count": 54,
   "metadata": {
    "colab": {
     "base_uri": "https://localhost:8080/"
    },
    "id": "ss5KtsBRn_Y8",
    "outputId": "223a94eb-1e34-4d0e-d13b-17e07b915070"
   },
   "outputs": [
    {
     "name": "stdout",
     "output_type": "stream",
     "text": [
      "63\n"
     ]
    }
   ],
   "source": [
    "print(x)"
   ]
  },
  {
   "cell_type": "code",
   "execution_count": 55,
   "metadata": {
    "id": "zXX1h4-eoBxK"
   },
   "outputs": [],
   "source": [
    "v = random.randn(10)"
   ]
  },
  {
   "cell_type": "code",
   "execution_count": 56,
   "metadata": {
    "colab": {
     "base_uri": "https://localhost:8080/"
    },
    "id": "Aqf622KLoNnY",
    "outputId": "9f29f5a7-444d-46ef-c863-82e2c0714f74"
   },
   "outputs": [
    {
     "name": "stdout",
     "output_type": "stream",
     "text": [
      "[-0.60830029 -1.48241641  0.18716604 -0.25219607  1.64588331 -0.176249\n",
      "  0.31020548 -2.20548238 -1.49544864  0.18484484]\n"
     ]
    }
   ],
   "source": [
    "print(v)"
   ]
  },
  {
   "cell_type": "code",
   "execution_count": 57,
   "metadata": {
    "id": "MXRIaMvQoPmP"
   },
   "outputs": [],
   "source": [
    "x = random.rand()\n"
   ]
  },
  {
   "cell_type": "code",
   "execution_count": 58,
   "metadata": {
    "colab": {
     "base_uri": "https://localhost:8080/"
    },
    "id": "0mameN5hoZba",
    "outputId": "01db26c3-4afd-44ee-898d-93e2d5ba904a"
   },
   "outputs": [
    {
     "name": "stdout",
     "output_type": "stream",
     "text": [
      "0.5231256481978788\n"
     ]
    }
   ],
   "source": [
    "print(x)"
   ]
  },
  {
   "cell_type": "code",
   "execution_count": 59,
   "metadata": {
    "colab": {
     "base_uri": "https://localhost:8080/"
    },
    "id": "JzMa0jc5uFOJ",
    "outputId": "77ef8a3f-6b35-4b8a-8b18-e897f9a6d20a"
   },
   "outputs": [
    {
     "name": "stdout",
     "output_type": "stream",
     "text": [
      "0.2661940825592142\n"
     ]
    }
   ],
   "source": [
    "arr = random.rand()\n",
    "print(arr)"
   ]
  },
  {
   "cell_type": "code",
   "execution_count": 60,
   "metadata": {
    "colab": {
     "base_uri": "https://localhost:8080/"
    },
    "id": "neehBN7juia-",
    "outputId": "9cb668de-1c74-4d1f-98c9-b87d61852c74"
   },
   "outputs": [
    {
     "name": "stdout",
     "output_type": "stream",
     "text": [
      "0.2290512134528824\n"
     ]
    }
   ],
   "source": [
    "arr = random.randn()\n",
    "print(arr)"
   ]
  },
  {
   "cell_type": "code",
   "execution_count": 61,
   "metadata": {
    "colab": {
     "base_uri": "https://localhost:8080/"
    },
    "id": "8UVjloMDuxt6",
    "outputId": "8c32492c-4554-4ec3-b94b-10120506970d"
   },
   "outputs": [
    {
     "name": "stdout",
     "output_type": "stream",
     "text": [
      "[0.41559004 0.98017635 0.61129678 0.86409257 0.02573649 0.17604998\n",
      " 0.08298193 0.40807769 0.38021513 0.25240408]\n"
     ]
    }
   ],
   "source": [
    "arr= random.rand(10)\n",
    "print(arr)"
   ]
  },
  {
   "cell_type": "code",
   "execution_count": 62,
   "metadata": {
    "colab": {
     "base_uri": "https://localhost:8080/"
    },
    "id": "Ug4gvZ4cu7xp",
    "outputId": "32c08828-d491-4f85-dd3c-22154b41f720"
   },
   "outputs": [
    {
     "name": "stdout",
     "output_type": "stream",
     "text": [
      "[-0.64256146 -2.42689402 -1.672218   -0.67776593 -0.39190458  0.1486327\n",
      "  0.79766454  0.2948207   0.5983486  -1.03320503]\n"
     ]
    }
   ],
   "source": [
    "arr = random.randn(10)\n",
    "print(arr)"
   ]
  },
  {
   "cell_type": "markdown",
   "metadata": {
    "id": "k7fQQ_cSouBG"
   },
   "source": [
    "Generate Random Array\n"
   ]
  },
  {
   "cell_type": "code",
   "execution_count": 63,
   "metadata": {
    "id": "OsrVEvVdoauN"
   },
   "outputs": [],
   "source": [
    "x = random.randint(100,size=5)"
   ]
  },
  {
   "cell_type": "code",
   "execution_count": 64,
   "metadata": {
    "colab": {
     "base_uri": "https://localhost:8080/"
    },
    "id": "_Z-MT3Rmo7OB",
    "outputId": "07b58456-0e79-448a-f328-84377704f3af"
   },
   "outputs": [
    {
     "name": "stdout",
     "output_type": "stream",
     "text": [
      "[71 76 25 66 65]\n"
     ]
    }
   ],
   "source": [
    "print(x)"
   ]
  },
  {
   "cell_type": "code",
   "execution_count": 65,
   "metadata": {
    "id": "qGzOqeVjo9OD"
   },
   "outputs": [],
   "source": [
    "# Generate a 2-D array with 3 rows, each row containing 5 random integers from 0 to 100:\n",
    "\n"
   ]
  },
  {
   "cell_type": "code",
   "execution_count": 66,
   "metadata": {
    "id": "bD7mmlq2pHlQ"
   },
   "outputs": [],
   "source": [
    "x = random.randint(100, size=(3,5))"
   ]
  },
  {
   "cell_type": "code",
   "execution_count": 67,
   "metadata": {
    "colab": {
     "base_uri": "https://localhost:8080/"
    },
    "id": "-16ltX4rpRHR",
    "outputId": "22c70447-3a7b-42eb-e3a4-68fd0ae38da9"
   },
   "outputs": [
    {
     "name": "stdout",
     "output_type": "stream",
     "text": [
      "[[82 18 15 97 14]\n",
      " [10 70 89 81 29]\n",
      " [61 76 58  8 74]]\n"
     ]
    }
   ],
   "source": [
    "print(x)"
   ]
  },
  {
   "cell_type": "markdown",
   "metadata": {
    "id": "ul3iDAWypp0C"
   },
   "source": [
    "The rand() method also allows you to specify the shape of the array.\n",
    "\n"
   ]
  },
  {
   "cell_type": "code",
   "execution_count": 68,
   "metadata": {
    "colab": {
     "base_uri": "https://localhost:8080/"
    },
    "id": "wSLI9zj3pbcL",
    "outputId": "4b157039-3aee-4fed-9b07-259632e4673b"
   },
   "outputs": [
    {
     "data": {
      "text/plain": [
       "array([0.50312943, 0.61731995, 0.769376  , 0.82510612, 0.38395549])"
      ]
     },
     "execution_count": 68,
     "metadata": {
      "tags": []
     },
     "output_type": "execute_result"
    }
   ],
   "source": [
    "x = random.rand(5)\n",
    "x"
   ]
  },
  {
   "cell_type": "code",
   "execution_count": 69,
   "metadata": {
    "colab": {
     "base_uri": "https://localhost:8080/"
    },
    "id": "HtjD8yoSpvGb",
    "outputId": "c0c5d9a3-b0d9-40bc-f9ac-317d538b0ab6"
   },
   "outputs": [
    {
     "name": "stdout",
     "output_type": "stream",
     "text": [
      "[[0.6243214  0.32450356 0.26791542 0.59450038 0.70565219]\n",
      " [0.58234773 0.1297245  0.78894329 0.90289269 0.85671837]\n",
      " [0.10230652 0.51157691 0.41430743 0.16822699 0.97681826]]\n"
     ]
    }
   ],
   "source": [
    "x = random.rand(3, 5)\n",
    "print(x)"
   ]
  },
  {
   "cell_type": "markdown",
   "metadata": {
    "id": "8E9xCsq_q96i"
   },
   "source": [
    "#Shuffling Arrays\n"
   ]
  },
  {
   "cell_type": "code",
   "execution_count": 70,
   "metadata": {
    "colab": {
     "base_uri": "https://localhost:8080/"
    },
    "id": "sA1DcBwFp4Qu",
    "outputId": "9f624c22-14d1-45a5-ab48-33b0af320f5f"
   },
   "outputs": [
    {
     "name": "stdout",
     "output_type": "stream",
     "text": [
      "[5 4 3 1 2]\n"
     ]
    }
   ],
   "source": [
    "# Randomly shuffle elements of following array:\n",
    "\n",
    "arr = np.array([1, 2, 3, 4, 5])\n",
    "random.shuffle(arr)\n",
    "print(arr)"
   ]
  },
  {
   "cell_type": "code",
   "execution_count": 71,
   "metadata": {
    "colab": {
     "base_uri": "https://localhost:8080/"
    },
    "id": "4VhPKr5arRY2",
    "outputId": "55a7acca-9077-4c9b-a158-c135e2e46c9c"
   },
   "outputs": [
    {
     "name": "stdout",
     "output_type": "stream",
     "text": [
      "[5 4 3 1 2]\n"
     ]
    }
   ],
   "source": [
    "arr = np.array([1, 2, 3, 4, 5])\n",
    "print(random.permutation(arr))\n"
   ]
  },
  {
   "cell_type": "code",
   "execution_count": 72,
   "metadata": {
    "id": "XNLOe467rj6v"
   },
   "outputs": [],
   "source": [
    "arr = random.randint(1000, size=(4,5))"
   ]
  },
  {
   "cell_type": "code",
   "execution_count": 73,
   "metadata": {
    "colab": {
     "base_uri": "https://localhost:8080/"
    },
    "id": "zRM7K1wZtYuh",
    "outputId": "24d580d2-8ae5-4978-8169-385dad0006ab"
   },
   "outputs": [
    {
     "name": "stdout",
     "output_type": "stream",
     "text": [
      "[[109 454 554 948 651]\n",
      " [804 779 160 436 111]\n",
      " [272 443 450 512 554]\n",
      " [713 689 590 324 389]]\n"
     ]
    }
   ],
   "source": [
    "print(arr)"
   ]
  },
  {
   "cell_type": "code",
   "execution_count": 74,
   "metadata": {
    "id": "B_eThwS8tab8"
   },
   "outputs": [],
   "source": [
    "random.shuffle(arr)"
   ]
  },
  {
   "cell_type": "code",
   "execution_count": 75,
   "metadata": {
    "colab": {
     "base_uri": "https://localhost:8080/"
    },
    "id": "Yx1APAy8thjW",
    "outputId": "b8f9048e-91cb-4f3e-e4b1-9da30ab36110"
   },
   "outputs": [
    {
     "name": "stdout",
     "output_type": "stream",
     "text": [
      "[[109 454 554 948 651]\n",
      " [272 443 450 512 554]\n",
      " [713 689 590 324 389]\n",
      " [804 779 160 436 111]]\n"
     ]
    }
   ],
   "source": [
    "print(arr)"
   ]
  },
  {
   "cell_type": "code",
   "execution_count": 76,
   "metadata": {
    "colab": {
     "base_uri": "https://localhost:8080/"
    },
    "id": "RB1ebNwUtkRc",
    "outputId": "ee128233-b1bf-4bc9-c76f-627f7e3297fe"
   },
   "outputs": [
    {
     "name": "stdout",
     "output_type": "stream",
     "text": [
      "[[804 779 160 436 111]\n",
      " [272 443 450 512 554]\n",
      " [713 689 590 324 389]\n",
      " [109 454 554 948 651]]\n"
     ]
    }
   ],
   "source": [
    "random.shuffle(arr)\n",
    "print(arr)"
   ]
  },
  {
   "cell_type": "code",
   "execution_count": 76,
   "metadata": {
    "id": "9gaZZTuPtzV6"
   },
   "outputs": [],
   "source": []
  }
 ],
 "metadata": {
  "colab": {
   "name": "Random Numbers_Shuffling Arrays.ipynb",
   "provenance": []
  },
  "kernelspec": {
   "display_name": "Python 3 (ipykernel)",
   "language": "python",
   "name": "python3"
  },
  "language_info": {
   "codemirror_mode": {
    "name": "ipython",
    "version": 3
   },
   "file_extension": ".py",
   "mimetype": "text/x-python",
   "name": "python",
   "nbconvert_exporter": "python",
   "pygments_lexer": "ipython3",
   "version": "3.9.7"
  }
 },
 "nbformat": 4,
 "nbformat_minor": 1
}
