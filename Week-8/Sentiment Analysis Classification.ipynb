{
 "cells": [
  {
   "cell_type": "markdown",
   "id": "4ebf5cd0",
   "metadata": {},
   "source": [
    "Sentiment Analysis (Positive/Negative Classification)"
   ]
  },
  {
   "cell_type": "code",
   "execution_count": 1,
   "id": "f4783e9a",
   "metadata": {},
   "outputs": [],
   "source": [
    "import tensorflow as tf\n",
    "from tensorflow.keras.preprocessing.text import Tokenizer\n",
    "from tensorflow.keras.preprocessing.sequence import pad_sequences\n",
    "from tensorflow.keras.layers import Embedding, LSTM, Dense\n",
    "from tensorflow.keras.models import Sequential\n",
    "import numpy as np"
   ]
  },
  {
   "cell_type": "code",
   "execution_count": 2,
   "id": "67e62b17",
   "metadata": {},
   "outputs": [],
   "source": [
    "# Sample paragraphs and labels (0 = negative, 1 = positive)\n",
    "paragraphs = [\n",
    "    # Positive (1)\n",
    "    \"The film was an absolute masterpiece! The director’s vision combined with the actors' phenomenal performances created a gripping narrative. The cinematography was breathtaking, with every frame resembling a work of art. The soundtrack perfectly complemented the emotional highs and lows of the story. I left the theater feeling inspired and moved—this is a movie that will stay with me for years.\",\n",
    "    \n",
    "    # Negative (0)\n",
    "    \"This movie was a complete disaster. The plot was riddled with inconsistencies, and the dialogue felt forced and unnatural. The lead actor’s performance was wooden, and the supporting cast did little to salvage the film. To make matters worse, the special effects looked cheap and outdated. By the halfway mark, I was checking my watch, waiting for it to end. Save your money and skip this one.\",\n",
    "\n",
    "    # Positive (1)\n",
    "    \"I recently purchased this wireless headphones, and they’ve exceeded all my expectations! The sound quality is crystal clear, with deep bass and balanced treble. The noise-cancellation feature works flawlessly, making them perfect for commuting. Battery life is impressive—I’ve used them for 12 hours straight without needing a recharge. They’re also incredibly comfortable, even during long listening sessions. Highly recommend!\",\n",
    "\n",
    "    # Negative (0)\n",
    "    \"The customer service I experienced was appalling. After waiting on hold for 45 minutes, the representative was dismissive and unhelpful. My issue—a defective product—was brushed off as ‘user error’ despite clear evidence. To add insult to injury, they refused to issue a refund or replacement. I’ve never felt so disrespected as a customer. Avoid this company at all costs.\",\n",
    "\n",
    "    # Positive (1)\n",
    "    \"Our dinner at this restaurant was unforgettable! The ambiance was cozy yet elegant, with soft lighting and live piano music. The chef’s tasting menu showcased inventive dishes bursting with flavor—the truffle risotto was a standout. The staff went above and beyond, offering wine pairings that elevated the meal. Worth every penny for a special occasion.\",\n",
    "\n",
    "    # Negative (0)\n",
    "    \"The hotel stay was a nightmare from start to finish. Our room smelled of mildew, and the sheets had visible stains. The air conditioning was broken, leaving us sweltering in 90-degree heat. When we complained, the front desk staff shrugged and said, ‘We’re fully booked.’ The ‘complimentary breakfast’ consisted of stale pastries and watered-down juice. Never again.\",\n",
    "\n",
    "    # Positive (1)\n",
    "    \"This book is a literary triumph! The author’s prose is lyrical, painting vivid imagery that transports you to another world. The characters are deeply layered, and their relationships evolve in ways that feel authentic. The plot twists kept me hooked until the final page. It’s rare to find a story that’s both intellectually stimulating and emotionally resonant. A must-read!\",\n",
    "\n",
    "    # Negative (0)\n",
    "    \"The conference was poorly organized and a total waste of time. The keynote speaker arrived 30 minutes late, and the schedule was chaotic. The ‘networking session’ had no structure, leaving attendees awkwardly milling around. The Wi-Fi didn’t work, making it impossible to access promised digital materials. I regret taking time off work for this.\"\n",
    "]\n",
    "\n",
    "labels = np.array([1, 0, 1, 0, 1, 0, 1, 0])  # Binary labels"
   ]
  },
  {
   "cell_type": "code",
   "execution_count": 3,
   "id": "9c48553b",
   "metadata": {},
   "outputs": [],
   "source": [
    "# Tokenize text and convert to sequences\n",
    "tokenizer = Tokenizer(num_words=1000, oov_token=\"<OOV>\")\n",
    "tokenizer.fit_on_texts(paragraphs)\n",
    "sequences = tokenizer.texts_to_sequences(paragraphs)\n",
    "\n",
    "# Pad sequences to the same length (e.g., maxlen=10)\n",
    "padded_sequences = pad_sequences(sequences, maxlen=10, padding='post')"
   ]
  },
  {
   "cell_type": "code",
   "execution_count": 4,
   "id": "71d1734f",
   "metadata": {},
   "outputs": [
    {
     "name": "stderr",
     "output_type": "stream",
     "text": [
      "e:\\NaVTTC AI Course\\venv\\Lib\\site-packages\\keras\\src\\layers\\core\\embedding.py:97: UserWarning: Argument `input_length` is deprecated. Just remove it.\n",
      "  warnings.warn(\n"
     ]
    }
   ],
   "source": [
    "model = Sequential([\n",
    "    Embedding(input_dim=1000, output_dim=16, input_length=10),  # Embed words into 16D vectors\n",
    "    LSTM(32),  # 32 LSTM units\n",
    "    Dense(1, activation='sigmoid')  # Output: 0 or 1\n",
    "])\n",
    "\n",
    "model.compile(optimizer='adam', loss='binary_crossentropy', metrics=['accuracy'])"
   ]
  },
  {
   "cell_type": "code",
   "execution_count": 5,
   "id": "726f352b",
   "metadata": {},
   "outputs": [
    {
     "name": "stdout",
     "output_type": "stream",
     "text": [
      "Epoch 1/20\n",
      "\u001b[1m1/1\u001b[0m \u001b[32m━━━━━━━━━━━━━━━━━━━━\u001b[0m\u001b[37m\u001b[0m \u001b[1m2s\u001b[0m 2s/step - accuracy: 0.6250 - loss: 0.6923\n",
      "Epoch 2/20\n",
      "\u001b[1m1/1\u001b[0m \u001b[32m━━━━━━━━━━━━━━━━━━━━\u001b[0m\u001b[37m\u001b[0m \u001b[1m0s\u001b[0m 57ms/step - accuracy: 0.7500 - loss: 0.6908\n",
      "Epoch 3/20\n",
      "\u001b[1m1/1\u001b[0m \u001b[32m━━━━━━━━━━━━━━━━━━━━\u001b[0m\u001b[37m\u001b[0m \u001b[1m0s\u001b[0m 57ms/step - accuracy: 0.8750 - loss: 0.6892\n",
      "Epoch 4/20\n",
      "\u001b[1m1/1\u001b[0m \u001b[32m━━━━━━━━━━━━━━━━━━━━\u001b[0m\u001b[37m\u001b[0m \u001b[1m0s\u001b[0m 55ms/step - accuracy: 0.8750 - loss: 0.6876\n",
      "Epoch 5/20\n",
      "\u001b[1m1/1\u001b[0m \u001b[32m━━━━━━━━━━━━━━━━━━━━\u001b[0m\u001b[37m\u001b[0m \u001b[1m0s\u001b[0m 65ms/step - accuracy: 1.0000 - loss: 0.6858\n",
      "Epoch 6/20\n",
      "\u001b[1m1/1\u001b[0m \u001b[32m━━━━━━━━━━━━━━━━━━━━\u001b[0m\u001b[37m\u001b[0m \u001b[1m0s\u001b[0m 73ms/step - accuracy: 1.0000 - loss: 0.6840\n",
      "Epoch 7/20\n",
      "\u001b[1m1/1\u001b[0m \u001b[32m━━━━━━━━━━━━━━━━━━━━\u001b[0m\u001b[37m\u001b[0m \u001b[1m0s\u001b[0m 73ms/step - accuracy: 1.0000 - loss: 0.6820\n",
      "Epoch 8/20\n",
      "\u001b[1m1/1\u001b[0m \u001b[32m━━━━━━━━━━━━━━━━━━━━\u001b[0m\u001b[37m\u001b[0m \u001b[1m0s\u001b[0m 75ms/step - accuracy: 1.0000 - loss: 0.6798\n",
      "Epoch 9/20\n",
      "\u001b[1m1/1\u001b[0m \u001b[32m━━━━━━━━━━━━━━━━━━━━\u001b[0m\u001b[37m\u001b[0m \u001b[1m0s\u001b[0m 65ms/step - accuracy: 1.0000 - loss: 0.6775\n",
      "Epoch 10/20\n",
      "\u001b[1m1/1\u001b[0m \u001b[32m━━━━━━━━━━━━━━━━━━━━\u001b[0m\u001b[37m\u001b[0m \u001b[1m0s\u001b[0m 65ms/step - accuracy: 1.0000 - loss: 0.6749\n",
      "Epoch 11/20\n",
      "\u001b[1m1/1\u001b[0m \u001b[32m━━━━━━━━━━━━━━━━━━━━\u001b[0m\u001b[37m\u001b[0m \u001b[1m0s\u001b[0m 74ms/step - accuracy: 1.0000 - loss: 0.6721\n",
      "Epoch 12/20\n",
      "\u001b[1m1/1\u001b[0m \u001b[32m━━━━━━━━━━━━━━━━━━━━\u001b[0m\u001b[37m\u001b[0m \u001b[1m0s\u001b[0m 65ms/step - accuracy: 1.0000 - loss: 0.6691\n",
      "Epoch 13/20\n",
      "\u001b[1m1/1\u001b[0m \u001b[32m━━━━━━━━━━━━━━━━━━━━\u001b[0m\u001b[37m\u001b[0m \u001b[1m0s\u001b[0m 49ms/step - accuracy: 1.0000 - loss: 0.6658\n",
      "Epoch 14/20\n",
      "\u001b[1m1/1\u001b[0m \u001b[32m━━━━━━━━━━━━━━━━━━━━\u001b[0m\u001b[37m\u001b[0m \u001b[1m0s\u001b[0m 49ms/step - accuracy: 1.0000 - loss: 0.6622\n",
      "Epoch 15/20\n",
      "\u001b[1m1/1\u001b[0m \u001b[32m━━━━━━━━━━━━━━━━━━━━\u001b[0m\u001b[37m\u001b[0m \u001b[1m0s\u001b[0m 57ms/step - accuracy: 1.0000 - loss: 0.6582\n",
      "Epoch 16/20\n",
      "\u001b[1m1/1\u001b[0m \u001b[32m━━━━━━━━━━━━━━━━━━━━\u001b[0m\u001b[37m\u001b[0m \u001b[1m0s\u001b[0m 49ms/step - accuracy: 1.0000 - loss: 0.6539\n",
      "Epoch 17/20\n",
      "\u001b[1m1/1\u001b[0m \u001b[32m━━━━━━━━━━━━━━━━━━━━\u001b[0m\u001b[37m\u001b[0m \u001b[1m0s\u001b[0m 58ms/step - accuracy: 1.0000 - loss: 0.6491\n",
      "Epoch 18/20\n",
      "\u001b[1m1/1\u001b[0m \u001b[32m━━━━━━━━━━━━━━━━━━━━\u001b[0m\u001b[37m\u001b[0m \u001b[1m0s\u001b[0m 49ms/step - accuracy: 1.0000 - loss: 0.6438\n",
      "Epoch 19/20\n",
      "\u001b[1m1/1\u001b[0m \u001b[32m━━━━━━━━━━━━━━━━━━━━\u001b[0m\u001b[37m\u001b[0m \u001b[1m0s\u001b[0m 52ms/step - accuracy: 1.0000 - loss: 0.6381\n",
      "Epoch 20/20\n",
      "\u001b[1m1/1\u001b[0m \u001b[32m━━━━━━━━━━━━━━━━━━━━\u001b[0m\u001b[37m\u001b[0m \u001b[1m0s\u001b[0m 50ms/step - accuracy: 1.0000 - loss: 0.6318\n"
     ]
    },
    {
     "data": {
      "text/plain": [
       "<keras.src.callbacks.history.History at 0x1f9aed99b90>"
      ]
     },
     "execution_count": 5,
     "metadata": {},
     "output_type": "execute_result"
    }
   ],
   "source": [
    "model.fit(padded_sequences, labels, epochs=20, batch_size=10)"
   ]
  },
  {
   "cell_type": "code",
   "execution_count": 9,
   "id": "674896d3",
   "metadata": {},
   "outputs": [
    {
     "name": "stdout",
     "output_type": "stream",
     "text": [
      "\u001b[1m1/1\u001b[0m \u001b[32m━━━━━━━━━━━━━━━━━━━━\u001b[0m\u001b[37m\u001b[0m \u001b[1m0s\u001b[0m 33ms/step\n",
      "This is a Negative\n"
     ]
    }
   ],
   "source": [
    "new_paragraph = [\"The customer service I experienced was appalling. After waiting on hold for 45 minutes, the representative was dismissive and unhelpful.\"]\n",
    "new_sequence = tokenizer.texts_to_sequences(new_paragraph)\n",
    "new_padded = pad_sequences(new_sequence, maxlen=10, padding='post')\n",
    "\n",
    "prediction = model.predict(new_padded)\n",
    "print(\"This is a Positive\" if prediction > 0.5 else \"This is a Negative\")  # Output: Positive"
   ]
  },
  {
   "cell_type": "code",
   "execution_count": null,
   "id": "92eb7814",
   "metadata": {},
   "outputs": [],
   "source": []
  }
 ],
 "metadata": {
  "kernelspec": {
   "display_name": "venv",
   "language": "python",
   "name": "python3"
  },
  "language_info": {
   "codemirror_mode": {
    "name": "ipython",
    "version": 3
   },
   "file_extension": ".py",
   "mimetype": "text/x-python",
   "name": "python",
   "nbconvert_exporter": "python",
   "pygments_lexer": "ipython3",
   "version": "3.11.0"
  }
 },
 "nbformat": 4,
 "nbformat_minor": 5
}
