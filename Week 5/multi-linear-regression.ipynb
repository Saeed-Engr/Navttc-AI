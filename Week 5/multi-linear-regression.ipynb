{
 "cells": [
  {
   "cell_type": "code",
   "execution_count": 1,
   "id": "d904fd39",
   "metadata": {
    "_cell_guid": "b1076dfc-b9ad-4769-8c92-a6c4dae69d19",
    "_uuid": "8f2839f25d086af736a60e9eeb907d3b93b6e0e5",
    "execution": {
     "iopub.execute_input": "2024-02-18T12:44:51.113214Z",
     "iopub.status.busy": "2024-02-18T12:44:51.112473Z",
     "iopub.status.idle": "2024-02-18T12:44:52.101334Z",
     "shell.execute_reply": "2024-02-18T12:44:52.099909Z"
    },
    "papermill": {
     "duration": 1.002093,
     "end_time": "2024-02-18T12:44:52.104271",
     "exception": false,
     "start_time": "2024-02-18T12:44:51.102178",
     "status": "completed"
    },
    "tags": []
   },
   "outputs": [
    {
     "name": "stdout",
     "output_type": "stream",
     "text": [
      "/kaggle/input/petrol-consumption/petrol_consumption.csv\n"
     ]
    }
   ],
   "source": [
    "# This Python 3 environment comes with many helpful analytics libraries installed\n",
    "# It is defined by the kaggle/python Docker image: https://github.com/kaggle/docker-python\n",
    "# For example, here's several helpful packages to load\n",
    "\n",
    "import numpy as np # linear algebra\n",
    "import pandas as pd # data processing, CSV file I/O (e.g. pd.read_csv)\n",
    "\n",
    "# Input data files are available in the read-only \"../input/\" directory\n",
    "# For example, running this (by clicking run or pressing Shift+Enter) will list all files under the input directory\n",
    "\n",
    "import os\n",
    "for dirname, _, filenames in os.walk('/kaggle/input'):\n",
    "    for filename in filenames:\n",
    "        print(os.path.join(dirname, filename))\n",
    "\n",
    "# You can write up to 20GB to the current directory (/kaggle/working/) that gets preserved as output when you create a version using \"Save & Run All\" \n",
    "# You can also write temporary files to /kaggle/temp/, but they won't be saved outside of the current session"
   ]
  },
  {
   "cell_type": "code",
   "execution_count": 2,
   "id": "201974cb",
   "metadata": {
    "execution": {
     "iopub.execute_input": "2024-02-18T12:44:52.122549Z",
     "iopub.status.busy": "2024-02-18T12:44:52.122026Z",
     "iopub.status.idle": "2024-02-18T12:44:53.745342Z",
     "shell.execute_reply": "2024-02-18T12:44:53.744154Z"
    },
    "papermill": {
     "duration": 1.635807,
     "end_time": "2024-02-18T12:44:53.748352",
     "exception": false,
     "start_time": "2024-02-18T12:44:52.112545",
     "status": "completed"
    },
    "tags": []
   },
   "outputs": [],
   "source": [
    "import  pandas as pd\n",
    "from sklearn.linear_model import LinearRegression\n",
    "from sklearn.model_selection import train_test_split\n",
    "from sklearn import metrics\n",
    "import matplotlib.pyplot as plt"
   ]
  },
  {
   "cell_type": "code",
   "execution_count": 3,
   "id": "46d58b37",
   "metadata": {
    "execution": {
     "iopub.execute_input": "2024-02-18T12:44:53.766318Z",
     "iopub.status.busy": "2024-02-18T12:44:53.765889Z",
     "iopub.status.idle": "2024-02-18T12:44:53.771754Z",
     "shell.execute_reply": "2024-02-18T12:44:53.770531Z"
    },
    "papermill": {
     "duration": 0.018402,
     "end_time": "2024-02-18T12:44:53.774833",
     "exception": false,
     "start_time": "2024-02-18T12:44:53.756431",
     "status": "completed"
    },
    "tags": []
   },
   "outputs": [
    {
     "name": "stdout",
     "output_type": "stream",
     "text": [
      "sklearn: 1.2.2\n"
     ]
    }
   ],
   "source": [
    "import sklearn\n",
    "print('sklearn: {}'. format(sklearn. __version__))"
   ]
  },
  {
   "cell_type": "code",
   "execution_count": 4,
   "id": "21882fc9",
   "metadata": {
    "execution": {
     "iopub.execute_input": "2024-02-18T12:44:53.792814Z",
     "iopub.status.busy": "2024-02-18T12:44:53.792407Z",
     "iopub.status.idle": "2024-02-18T12:44:53.810481Z",
     "shell.execute_reply": "2024-02-18T12:44:53.809108Z"
    },
    "papermill": {
     "duration": 0.030697,
     "end_time": "2024-02-18T12:44:53.813590",
     "exception": false,
     "start_time": "2024-02-18T12:44:53.782893",
     "status": "completed"
    },
    "tags": []
   },
   "outputs": [],
   "source": [
    "dataset = pd.read_csv('/kaggle/input/petrol-consumption/petrol_consumption.csv')"
   ]
  },
  {
   "cell_type": "code",
   "execution_count": 5,
   "id": "3b6ba7ce",
   "metadata": {
    "execution": {
     "iopub.execute_input": "2024-02-18T12:44:53.831453Z",
     "iopub.status.busy": "2024-02-18T12:44:53.831017Z",
     "iopub.status.idle": "2024-02-18T12:44:53.853481Z",
     "shell.execute_reply": "2024-02-18T12:44:53.852301Z"
    },
    "papermill": {
     "duration": 0.034129,
     "end_time": "2024-02-18T12:44:53.855791",
     "exception": false,
     "start_time": "2024-02-18T12:44:53.821662",
     "status": "completed"
    },
    "tags": []
   },
   "outputs": [
    {
     "data": {
      "text/html": [
       "<div>\n",
       "<style scoped>\n",
       "    .dataframe tbody tr th:only-of-type {\n",
       "        vertical-align: middle;\n",
       "    }\n",
       "\n",
       "    .dataframe tbody tr th {\n",
       "        vertical-align: top;\n",
       "    }\n",
       "\n",
       "    .dataframe thead th {\n",
       "        text-align: right;\n",
       "    }\n",
       "</style>\n",
       "<table border=\"1\" class=\"dataframe\">\n",
       "  <thead>\n",
       "    <tr style=\"text-align: right;\">\n",
       "      <th></th>\n",
       "      <th>Petrol_tax</th>\n",
       "      <th>Average_income</th>\n",
       "      <th>Paved_Highways</th>\n",
       "      <th>Population_Driver_licence(%)</th>\n",
       "      <th>Petrol_Consumption</th>\n",
       "    </tr>\n",
       "  </thead>\n",
       "  <tbody>\n",
       "    <tr>\n",
       "      <th>0</th>\n",
       "      <td>9.0</td>\n",
       "      <td>3571</td>\n",
       "      <td>1976</td>\n",
       "      <td>0.525</td>\n",
       "      <td>541</td>\n",
       "    </tr>\n",
       "    <tr>\n",
       "      <th>1</th>\n",
       "      <td>9.0</td>\n",
       "      <td>4092</td>\n",
       "      <td>1250</td>\n",
       "      <td>0.572</td>\n",
       "      <td>524</td>\n",
       "    </tr>\n",
       "    <tr>\n",
       "      <th>2</th>\n",
       "      <td>9.0</td>\n",
       "      <td>3865</td>\n",
       "      <td>1586</td>\n",
       "      <td>0.580</td>\n",
       "      <td>561</td>\n",
       "    </tr>\n",
       "    <tr>\n",
       "      <th>3</th>\n",
       "      <td>7.5</td>\n",
       "      <td>4870</td>\n",
       "      <td>2351</td>\n",
       "      <td>0.529</td>\n",
       "      <td>414</td>\n",
       "    </tr>\n",
       "    <tr>\n",
       "      <th>4</th>\n",
       "      <td>8.0</td>\n",
       "      <td>4399</td>\n",
       "      <td>431</td>\n",
       "      <td>0.544</td>\n",
       "      <td>410</td>\n",
       "    </tr>\n",
       "    <tr>\n",
       "      <th>5</th>\n",
       "      <td>10.0</td>\n",
       "      <td>5342</td>\n",
       "      <td>1333</td>\n",
       "      <td>0.571</td>\n",
       "      <td>457</td>\n",
       "    </tr>\n",
       "    <tr>\n",
       "      <th>6</th>\n",
       "      <td>8.0</td>\n",
       "      <td>5319</td>\n",
       "      <td>11868</td>\n",
       "      <td>0.451</td>\n",
       "      <td>344</td>\n",
       "    </tr>\n",
       "    <tr>\n",
       "      <th>7</th>\n",
       "      <td>8.0</td>\n",
       "      <td>5126</td>\n",
       "      <td>2138</td>\n",
       "      <td>0.553</td>\n",
       "      <td>467</td>\n",
       "    </tr>\n",
       "    <tr>\n",
       "      <th>8</th>\n",
       "      <td>8.0</td>\n",
       "      <td>4447</td>\n",
       "      <td>8577</td>\n",
       "      <td>0.529</td>\n",
       "      <td>464</td>\n",
       "    </tr>\n",
       "    <tr>\n",
       "      <th>9</th>\n",
       "      <td>7.0</td>\n",
       "      <td>4512</td>\n",
       "      <td>8507</td>\n",
       "      <td>0.552</td>\n",
       "      <td>498</td>\n",
       "    </tr>\n",
       "  </tbody>\n",
       "</table>\n",
       "</div>"
      ],
      "text/plain": [
       "   Petrol_tax  Average_income  Paved_Highways  Population_Driver_licence(%)  \\\n",
       "0         9.0            3571            1976                         0.525   \n",
       "1         9.0            4092            1250                         0.572   \n",
       "2         9.0            3865            1586                         0.580   \n",
       "3         7.5            4870            2351                         0.529   \n",
       "4         8.0            4399             431                         0.544   \n",
       "5        10.0            5342            1333                         0.571   \n",
       "6         8.0            5319           11868                         0.451   \n",
       "7         8.0            5126            2138                         0.553   \n",
       "8         8.0            4447            8577                         0.529   \n",
       "9         7.0            4512            8507                         0.552   \n",
       "\n",
       "   Petrol_Consumption  \n",
       "0                 541  \n",
       "1                 524  \n",
       "2                 561  \n",
       "3                 414  \n",
       "4                 410  \n",
       "5                 457  \n",
       "6                 344  \n",
       "7                 467  \n",
       "8                 464  \n",
       "9                 498  "
      ]
     },
     "execution_count": 5,
     "metadata": {},
     "output_type": "execute_result"
    }
   ],
   "source": [
    "dataset.head(10)"
   ]
  },
  {
   "cell_type": "markdown",
   "id": "cfe1eee0",
   "metadata": {
    "papermill": {
     "duration": 0.007974,
     "end_time": "2024-02-18T12:44:53.872076",
     "exception": false,
     "start_time": "2024-02-18T12:44:53.864102",
     "status": "completed"
    },
    "tags": []
   },
   "source": [
    "**Info**"
   ]
  },
  {
   "cell_type": "code",
   "execution_count": 6,
   "id": "bc01aab8",
   "metadata": {
    "execution": {
     "iopub.execute_input": "2024-02-18T12:44:53.890812Z",
     "iopub.status.busy": "2024-02-18T12:44:53.890076Z",
     "iopub.status.idle": "2024-02-18T12:44:53.917773Z",
     "shell.execute_reply": "2024-02-18T12:44:53.916209Z"
    },
    "papermill": {
     "duration": 0.039885,
     "end_time": "2024-02-18T12:44:53.920295",
     "exception": false,
     "start_time": "2024-02-18T12:44:53.880410",
     "status": "completed"
    },
    "tags": []
   },
   "outputs": [
    {
     "name": "stdout",
     "output_type": "stream",
     "text": [
      "<class 'pandas.core.frame.DataFrame'>\n",
      "RangeIndex: 48 entries, 0 to 47\n",
      "Data columns (total 5 columns):\n",
      " #   Column                        Non-Null Count  Dtype  \n",
      "---  ------                        --------------  -----  \n",
      " 0   Petrol_tax                    48 non-null     float64\n",
      " 1   Average_income                48 non-null     int64  \n",
      " 2   Paved_Highways                48 non-null     int64  \n",
      " 3   Population_Driver_licence(%)  48 non-null     float64\n",
      " 4   Petrol_Consumption            48 non-null     int64  \n",
      "dtypes: float64(2), int64(3)\n",
      "memory usage: 2.0 KB\n"
     ]
    }
   ],
   "source": [
    "dataset.info()"
   ]
  },
  {
   "cell_type": "code",
   "execution_count": 7,
   "id": "eb5fc163",
   "metadata": {
    "execution": {
     "iopub.execute_input": "2024-02-18T12:44:53.939248Z",
     "iopub.status.busy": "2024-02-18T12:44:53.938799Z",
     "iopub.status.idle": "2024-02-18T12:44:53.967139Z",
     "shell.execute_reply": "2024-02-18T12:44:53.965957Z"
    },
    "papermill": {
     "duration": 0.040902,
     "end_time": "2024-02-18T12:44:53.969643",
     "exception": false,
     "start_time": "2024-02-18T12:44:53.928741",
     "status": "completed"
    },
    "tags": []
   },
   "outputs": [
    {
     "data": {
      "text/html": [
       "<div>\n",
       "<style scoped>\n",
       "    .dataframe tbody tr th:only-of-type {\n",
       "        vertical-align: middle;\n",
       "    }\n",
       "\n",
       "    .dataframe tbody tr th {\n",
       "        vertical-align: top;\n",
       "    }\n",
       "\n",
       "    .dataframe thead th {\n",
       "        text-align: right;\n",
       "    }\n",
       "</style>\n",
       "<table border=\"1\" class=\"dataframe\">\n",
       "  <thead>\n",
       "    <tr style=\"text-align: right;\">\n",
       "      <th></th>\n",
       "      <th>Petrol_tax</th>\n",
       "      <th>Average_income</th>\n",
       "      <th>Paved_Highways</th>\n",
       "      <th>Population_Driver_licence(%)</th>\n",
       "      <th>Petrol_Consumption</th>\n",
       "    </tr>\n",
       "  </thead>\n",
       "  <tbody>\n",
       "    <tr>\n",
       "      <th>count</th>\n",
       "      <td>48.000000</td>\n",
       "      <td>48.000000</td>\n",
       "      <td>48.000000</td>\n",
       "      <td>48.000000</td>\n",
       "      <td>48.000000</td>\n",
       "    </tr>\n",
       "    <tr>\n",
       "      <th>mean</th>\n",
       "      <td>7.668333</td>\n",
       "      <td>4241.833333</td>\n",
       "      <td>5565.416667</td>\n",
       "      <td>0.570333</td>\n",
       "      <td>576.770833</td>\n",
       "    </tr>\n",
       "    <tr>\n",
       "      <th>std</th>\n",
       "      <td>0.950770</td>\n",
       "      <td>573.623768</td>\n",
       "      <td>3491.507166</td>\n",
       "      <td>0.055470</td>\n",
       "      <td>111.885816</td>\n",
       "    </tr>\n",
       "    <tr>\n",
       "      <th>min</th>\n",
       "      <td>5.000000</td>\n",
       "      <td>3063.000000</td>\n",
       "      <td>431.000000</td>\n",
       "      <td>0.451000</td>\n",
       "      <td>344.000000</td>\n",
       "    </tr>\n",
       "    <tr>\n",
       "      <th>25%</th>\n",
       "      <td>7.000000</td>\n",
       "      <td>3739.000000</td>\n",
       "      <td>3110.250000</td>\n",
       "      <td>0.529750</td>\n",
       "      <td>509.500000</td>\n",
       "    </tr>\n",
       "    <tr>\n",
       "      <th>50%</th>\n",
       "      <td>7.500000</td>\n",
       "      <td>4298.000000</td>\n",
       "      <td>4735.500000</td>\n",
       "      <td>0.564500</td>\n",
       "      <td>568.500000</td>\n",
       "    </tr>\n",
       "    <tr>\n",
       "      <th>75%</th>\n",
       "      <td>8.125000</td>\n",
       "      <td>4578.750000</td>\n",
       "      <td>7156.000000</td>\n",
       "      <td>0.595250</td>\n",
       "      <td>632.750000</td>\n",
       "    </tr>\n",
       "    <tr>\n",
       "      <th>max</th>\n",
       "      <td>10.000000</td>\n",
       "      <td>5342.000000</td>\n",
       "      <td>17782.000000</td>\n",
       "      <td>0.724000</td>\n",
       "      <td>968.000000</td>\n",
       "    </tr>\n",
       "  </tbody>\n",
       "</table>\n",
       "</div>"
      ],
      "text/plain": [
       "       Petrol_tax  Average_income  Paved_Highways  \\\n",
       "count   48.000000       48.000000       48.000000   \n",
       "mean     7.668333     4241.833333     5565.416667   \n",
       "std      0.950770      573.623768     3491.507166   \n",
       "min      5.000000     3063.000000      431.000000   \n",
       "25%      7.000000     3739.000000     3110.250000   \n",
       "50%      7.500000     4298.000000     4735.500000   \n",
       "75%      8.125000     4578.750000     7156.000000   \n",
       "max     10.000000     5342.000000    17782.000000   \n",
       "\n",
       "       Population_Driver_licence(%)  Petrol_Consumption  \n",
       "count                     48.000000           48.000000  \n",
       "mean                       0.570333          576.770833  \n",
       "std                        0.055470          111.885816  \n",
       "min                        0.451000          344.000000  \n",
       "25%                        0.529750          509.500000  \n",
       "50%                        0.564500          568.500000  \n",
       "75%                        0.595250          632.750000  \n",
       "max                        0.724000          968.000000  "
      ]
     },
     "execution_count": 7,
     "metadata": {},
     "output_type": "execute_result"
    }
   ],
   "source": [
    "dataset.describe()"
   ]
  },
  {
   "cell_type": "markdown",
   "id": "0216c77e",
   "metadata": {
    "papermill": {
     "duration": 0.008526,
     "end_time": "2024-02-18T12:44:53.986935",
     "exception": false,
     "start_time": "2024-02-18T12:44:53.978409",
     "status": "completed"
    },
    "tags": []
   },
   "source": [
    "**seperate to X and y**"
   ]
  },
  {
   "cell_type": "code",
   "execution_count": 8,
   "id": "cd79825f",
   "metadata": {
    "execution": {
     "iopub.execute_input": "2024-02-18T12:44:54.006686Z",
     "iopub.status.busy": "2024-02-18T12:44:54.006194Z",
     "iopub.status.idle": "2024-02-18T12:44:54.014232Z",
     "shell.execute_reply": "2024-02-18T12:44:54.012994Z"
    },
    "papermill": {
     "duration": 0.020874,
     "end_time": "2024-02-18T12:44:54.016644",
     "exception": false,
     "start_time": "2024-02-18T12:44:53.995770",
     "status": "completed"
    },
    "tags": []
   },
   "outputs": [],
   "source": [
    "X = dataset.drop(columns=['Petrol_Consumption'])\n",
    "y = dataset['Petrol_Consumption']"
   ]
  },
  {
   "cell_type": "markdown",
   "id": "ff337dd4",
   "metadata": {
    "papermill": {
     "duration": 0.008504,
     "end_time": "2024-02-18T12:44:54.033985",
     "exception": false,
     "start_time": "2024-02-18T12:44:54.025481",
     "status": "completed"
    },
    "tags": []
   },
   "source": [
    "The first step is to determine the independent and dependent variables"
   ]
  },
  {
   "cell_type": "markdown",
   "id": "476b901f",
   "metadata": {
    "papermill": {
     "duration": 0.00853,
     "end_time": "2024-02-18T12:44:54.052236",
     "exception": false,
     "start_time": "2024-02-18T12:44:54.043706",
     "status": "completed"
    },
    "tags": []
   },
   "source": [
    "**splite to train and test**"
   ]
  },
  {
   "cell_type": "code",
   "execution_count": 9,
   "id": "73dd2a72",
   "metadata": {
    "execution": {
     "iopub.execute_input": "2024-02-18T12:44:54.072167Z",
     "iopub.status.busy": "2024-02-18T12:44:54.071313Z",
     "iopub.status.idle": "2024-02-18T12:44:54.079141Z",
     "shell.execute_reply": "2024-02-18T12:44:54.078227Z"
    },
    "papermill": {
     "duration": 0.020664,
     "end_time": "2024-02-18T12:44:54.081806",
     "exception": false,
     "start_time": "2024-02-18T12:44:54.061142",
     "status": "completed"
    },
    "tags": []
   },
   "outputs": [],
   "source": [
    "X_train, X_test, y_train, y_test = train_test_split(X, y, test_size=0.2, random_state=40)"
   ]
  },
  {
   "cell_type": "markdown",
   "id": "48ecf9f2",
   "metadata": {
    "papermill": {
     "duration": 0.00865,
     "end_time": "2024-02-18T12:44:54.099459",
     "exception": false,
     "start_time": "2024-02-18T12:44:54.090809",
     "status": "completed"
    },
    "tags": []
   },
   "source": [
    "\n",
    "Train/Test Split involves splitting the data set into mutually exclusive training and test sets, respectively. After that, you practice with the training set and test with the test set.\n",
    "This provides a more accurate assessment of out-of-sample accuracy because the test dataset is not part of the dataset used to train the model. Therefore, it gives us a better understanding of how our model generalizes to new data.\n",
    "\n",
    "We know the outcome of every data point in the test dataset, which makes it great to experiment with! Since this data was not used to train the model, the model has no knowledge of the outcome of these data points. So, in essence, it's really an out-of-sample experiment."
   ]
  },
  {
   "cell_type": "markdown",
   "id": "5e57a6d7",
   "metadata": {
    "papermill": {
     "duration": 0.008825,
     "end_time": "2024-02-18T12:44:54.117280",
     "exception": false,
     "start_time": "2024-02-18T12:44:54.108455",
     "status": "completed"
    },
    "tags": []
   },
   "source": [
    "**Model**"
   ]
  },
  {
   "cell_type": "code",
   "execution_count": 10,
   "id": "bd03975f",
   "metadata": {
    "execution": {
     "iopub.execute_input": "2024-02-18T12:44:54.137071Z",
     "iopub.status.busy": "2024-02-18T12:44:54.136634Z",
     "iopub.status.idle": "2024-02-18T12:44:54.165622Z",
     "shell.execute_reply": "2024-02-18T12:44:54.164688Z"
    },
    "papermill": {
     "duration": 0.041574,
     "end_time": "2024-02-18T12:44:54.167830",
     "exception": false,
     "start_time": "2024-02-18T12:44:54.126256",
     "status": "completed"
    },
    "tags": []
   },
   "outputs": [
    {
     "data": {
      "text/html": [
       "<style>#sk-container-id-1 {color: black;background-color: white;}#sk-container-id-1 pre{padding: 0;}#sk-container-id-1 div.sk-toggleable {background-color: white;}#sk-container-id-1 label.sk-toggleable__label {cursor: pointer;display: block;width: 100%;margin-bottom: 0;padding: 0.3em;box-sizing: border-box;text-align: center;}#sk-container-id-1 label.sk-toggleable__label-arrow:before {content: \"▸\";float: left;margin-right: 0.25em;color: #696969;}#sk-container-id-1 label.sk-toggleable__label-arrow:hover:before {color: black;}#sk-container-id-1 div.sk-estimator:hover label.sk-toggleable__label-arrow:before {color: black;}#sk-container-id-1 div.sk-toggleable__content {max-height: 0;max-width: 0;overflow: hidden;text-align: left;background-color: #f0f8ff;}#sk-container-id-1 div.sk-toggleable__content pre {margin: 0.2em;color: black;border-radius: 0.25em;background-color: #f0f8ff;}#sk-container-id-1 input.sk-toggleable__control:checked~div.sk-toggleable__content {max-height: 200px;max-width: 100%;overflow: auto;}#sk-container-id-1 input.sk-toggleable__control:checked~label.sk-toggleable__label-arrow:before {content: \"▾\";}#sk-container-id-1 div.sk-estimator input.sk-toggleable__control:checked~label.sk-toggleable__label {background-color: #d4ebff;}#sk-container-id-1 div.sk-label input.sk-toggleable__control:checked~label.sk-toggleable__label {background-color: #d4ebff;}#sk-container-id-1 input.sk-hidden--visually {border: 0;clip: rect(1px 1px 1px 1px);clip: rect(1px, 1px, 1px, 1px);height: 1px;margin: -1px;overflow: hidden;padding: 0;position: absolute;width: 1px;}#sk-container-id-1 div.sk-estimator {font-family: monospace;background-color: #f0f8ff;border: 1px dotted black;border-radius: 0.25em;box-sizing: border-box;margin-bottom: 0.5em;}#sk-container-id-1 div.sk-estimator:hover {background-color: #d4ebff;}#sk-container-id-1 div.sk-parallel-item::after {content: \"\";width: 100%;border-bottom: 1px solid gray;flex-grow: 1;}#sk-container-id-1 div.sk-label:hover label.sk-toggleable__label {background-color: #d4ebff;}#sk-container-id-1 div.sk-serial::before {content: \"\";position: absolute;border-left: 1px solid gray;box-sizing: border-box;top: 0;bottom: 0;left: 50%;z-index: 0;}#sk-container-id-1 div.sk-serial {display: flex;flex-direction: column;align-items: center;background-color: white;padding-right: 0.2em;padding-left: 0.2em;position: relative;}#sk-container-id-1 div.sk-item {position: relative;z-index: 1;}#sk-container-id-1 div.sk-parallel {display: flex;align-items: stretch;justify-content: center;background-color: white;position: relative;}#sk-container-id-1 div.sk-item::before, #sk-container-id-1 div.sk-parallel-item::before {content: \"\";position: absolute;border-left: 1px solid gray;box-sizing: border-box;top: 0;bottom: 0;left: 50%;z-index: -1;}#sk-container-id-1 div.sk-parallel-item {display: flex;flex-direction: column;z-index: 1;position: relative;background-color: white;}#sk-container-id-1 div.sk-parallel-item:first-child::after {align-self: flex-end;width: 50%;}#sk-container-id-1 div.sk-parallel-item:last-child::after {align-self: flex-start;width: 50%;}#sk-container-id-1 div.sk-parallel-item:only-child::after {width: 0;}#sk-container-id-1 div.sk-dashed-wrapped {border: 1px dashed gray;margin: 0 0.4em 0.5em 0.4em;box-sizing: border-box;padding-bottom: 0.4em;background-color: white;}#sk-container-id-1 div.sk-label label {font-family: monospace;font-weight: bold;display: inline-block;line-height: 1.2em;}#sk-container-id-1 div.sk-label-container {text-align: center;}#sk-container-id-1 div.sk-container {/* jupyter's `normalize.less` sets `[hidden] { display: none; }` but bootstrap.min.css set `[hidden] { display: none !important; }` so we also need the `!important` here to be able to override the default hidden behavior on the sphinx rendered scikit-learn.org. See: https://github.com/scikit-learn/scikit-learn/issues/21755 */display: inline-block !important;position: relative;}#sk-container-id-1 div.sk-text-repr-fallback {display: none;}</style><div id=\"sk-container-id-1\" class=\"sk-top-container\"><div class=\"sk-text-repr-fallback\"><pre>LinearRegression()</pre><b>In a Jupyter environment, please rerun this cell to show the HTML representation or trust the notebook. <br />On GitHub, the HTML representation is unable to render, please try loading this page with nbviewer.org.</b></div><div class=\"sk-container\" hidden><div class=\"sk-item\"><div class=\"sk-estimator sk-toggleable\"><input class=\"sk-toggleable__control sk-hidden--visually\" id=\"sk-estimator-id-1\" type=\"checkbox\" checked><label for=\"sk-estimator-id-1\" class=\"sk-toggleable__label sk-toggleable__label-arrow\">LinearRegression</label><div class=\"sk-toggleable__content\"><pre>LinearRegression()</pre></div></div></div></div></div>"
      ],
      "text/plain": [
       "LinearRegression()"
      ]
     },
     "execution_count": 10,
     "metadata": {},
     "output_type": "execute_result"
    }
   ],
   "source": [
    "reg = LinearRegression()\n",
    "reg.fit(X_train, y_train)"
   ]
  },
  {
   "cell_type": "markdown",
   "id": "73ebc67b",
   "metadata": {
    "papermill": {
     "duration": 0.008764,
     "end_time": "2024-02-18T12:44:54.185891",
     "exception": false,
     "start_time": "2024-02-18T12:44:54.177127",
     "status": "completed"
    },
    "tags": []
   },
   "source": [
    "In reality, there are many variables that affect Petrol_Consumption. When there is more than one independent variable, the process is called multiple linear regression."
   ]
  },
  {
   "cell_type": "markdown",
   "id": "e102eae1",
   "metadata": {
    "papermill": {
     "duration": 0.00855,
     "end_time": "2024-02-18T12:44:54.203320",
     "exception": false,
     "start_time": "2024-02-18T12:44:54.194770",
     "status": "completed"
    },
    "tags": []
   },
   "source": [
    "**Formula**"
   ]
  },
  {
   "cell_type": "code",
   "execution_count": 11,
   "id": "91f736ce",
   "metadata": {
    "execution": {
     "iopub.execute_input": "2024-02-18T12:44:54.223481Z",
     "iopub.status.busy": "2024-02-18T12:44:54.222738Z",
     "iopub.status.idle": "2024-02-18T12:44:54.235181Z",
     "shell.execute_reply": "2024-02-18T12:44:54.233954Z"
    },
    "papermill": {
     "duration": 0.025665,
     "end_time": "2024-02-18T12:44:54.237892",
     "exception": false,
     "start_time": "2024-02-18T12:44:54.212227",
     "status": "completed"
    },
    "tags": []
   },
   "outputs": [
    {
     "data": {
      "text/html": [
       "<div>\n",
       "<style scoped>\n",
       "    .dataframe tbody tr th:only-of-type {\n",
       "        vertical-align: middle;\n",
       "    }\n",
       "\n",
       "    .dataframe tbody tr th {\n",
       "        vertical-align: top;\n",
       "    }\n",
       "\n",
       "    .dataframe thead th {\n",
       "        text-align: right;\n",
       "    }\n",
       "</style>\n",
       "<table border=\"1\" class=\"dataframe\">\n",
       "  <thead>\n",
       "    <tr style=\"text-align: right;\">\n",
       "      <th></th>\n",
       "      <th>Coef</th>\n",
       "      <th>X</th>\n",
       "    </tr>\n",
       "  </thead>\n",
       "  <tbody>\n",
       "    <tr>\n",
       "      <th>0</th>\n",
       "      <td>-37.006693</td>\n",
       "      <td>Petrol_tax</td>\n",
       "    </tr>\n",
       "    <tr>\n",
       "      <th>1</th>\n",
       "      <td>-0.064383</td>\n",
       "      <td>Average_income</td>\n",
       "    </tr>\n",
       "    <tr>\n",
       "      <th>2</th>\n",
       "      <td>-0.004588</td>\n",
       "      <td>Paved_Highways</td>\n",
       "    </tr>\n",
       "    <tr>\n",
       "      <th>3</th>\n",
       "      <td>1323.374236</td>\n",
       "      <td>Population_Driver_licence(%)</td>\n",
       "    </tr>\n",
       "  </tbody>\n",
       "</table>\n",
       "</div>"
      ],
      "text/plain": [
       "          Coef                             X\n",
       "0   -37.006693                    Petrol_tax\n",
       "1    -0.064383                Average_income\n",
       "2    -0.004588                Paved_Highways\n",
       "3  1323.374236  Population_Driver_licence(%)"
      ]
     },
     "execution_count": 11,
     "metadata": {},
     "output_type": "execute_result"
    }
   ],
   "source": [
    "df_coefs = pd.DataFrame({'Coef':reg.coef_, 'X':X.columns})\n",
    "df_coefs"
   ]
  },
  {
   "cell_type": "code",
   "execution_count": 12,
   "id": "cfef2dde",
   "metadata": {
    "execution": {
     "iopub.execute_input": "2024-02-18T12:44:54.260317Z",
     "iopub.status.busy": "2024-02-18T12:44:54.259918Z",
     "iopub.status.idle": "2024-02-18T12:44:54.265981Z",
     "shell.execute_reply": "2024-02-18T12:44:54.264685Z"
    },
    "papermill": {
     "duration": 0.020856,
     "end_time": "2024-02-18T12:44:54.268419",
     "exception": false,
     "start_time": "2024-02-18T12:44:54.247563",
     "status": "completed"
    },
    "tags": []
   },
   "outputs": [
    {
     "name": "stdout",
     "output_type": "stream",
     "text": [
      "intercept: 406.460029074363\n"
     ]
    }
   ],
   "source": [
    "print(f'intercept: {reg.intercept_}')"
   ]
  },
  {
   "cell_type": "code",
   "execution_count": 13,
   "id": "4b66f266",
   "metadata": {
    "execution": {
     "iopub.execute_input": "2024-02-18T12:44:54.289647Z",
     "iopub.status.busy": "2024-02-18T12:44:54.288907Z",
     "iopub.status.idle": "2024-02-18T12:44:54.294913Z",
     "shell.execute_reply": "2024-02-18T12:44:54.293944Z"
    },
    "papermill": {
     "duration": 0.019163,
     "end_time": "2024-02-18T12:44:54.297114",
     "exception": false,
     "start_time": "2024-02-18T12:44:54.277951",
     "status": "completed"
    },
    "tags": []
   },
   "outputs": [
    {
     "data": {
      "text/plain": [
       "4"
      ]
     },
     "execution_count": 13,
     "metadata": {},
     "output_type": "execute_result"
    }
   ],
   "source": [
    "len(reg.coef_)"
   ]
  },
  {
   "cell_type": "markdown",
   "id": "2eafcaba",
   "metadata": {
    "papermill": {
     "duration": 0.009168,
     "end_time": "2024-02-18T12:44:54.315779",
     "exception": false,
     "start_time": "2024-02-18T12:44:54.306611",
     "status": "completed"
    },
    "tags": []
   },
   "source": [
    "**Prediction**"
   ]
  },
  {
   "cell_type": "code",
   "execution_count": 14,
   "id": "7a11a7ee",
   "metadata": {
    "execution": {
     "iopub.execute_input": "2024-02-18T12:44:54.336830Z",
     "iopub.status.busy": "2024-02-18T12:44:54.336286Z",
     "iopub.status.idle": "2024-02-18T12:44:54.343951Z",
     "shell.execute_reply": "2024-02-18T12:44:54.342705Z"
    },
    "papermill": {
     "duration": 0.020944,
     "end_time": "2024-02-18T12:44:54.346268",
     "exception": false,
     "start_time": "2024-02-18T12:44:54.325324",
     "status": "completed"
    },
    "tags": []
   },
   "outputs": [],
   "source": [
    "y_pred = reg.predict(X_test)"
   ]
  },
  {
   "cell_type": "code",
   "execution_count": 15,
   "id": "ee15567d",
   "metadata": {
    "execution": {
     "iopub.execute_input": "2024-02-18T12:44:54.367480Z",
     "iopub.status.busy": "2024-02-18T12:44:54.367030Z",
     "iopub.status.idle": "2024-02-18T12:44:54.379133Z",
     "shell.execute_reply": "2024-02-18T12:44:54.377973Z"
    },
    "papermill": {
     "duration": 0.025805,
     "end_time": "2024-02-18T12:44:54.381762",
     "exception": false,
     "start_time": "2024-02-18T12:44:54.355957",
     "status": "completed"
    },
    "tags": []
   },
   "outputs": [
    {
     "data": {
      "text/html": [
       "<div>\n",
       "<style scoped>\n",
       "    .dataframe tbody tr th:only-of-type {\n",
       "        vertical-align: middle;\n",
       "    }\n",
       "\n",
       "    .dataframe tbody tr th {\n",
       "        vertical-align: top;\n",
       "    }\n",
       "\n",
       "    .dataframe thead th {\n",
       "        text-align: right;\n",
       "    }\n",
       "</style>\n",
       "<table border=\"1\" class=\"dataframe\">\n",
       "  <thead>\n",
       "    <tr style=\"text-align: right;\">\n",
       "      <th></th>\n",
       "      <th>y_test</th>\n",
       "      <th>pred</th>\n",
       "    </tr>\n",
       "  </thead>\n",
       "  <tbody>\n",
       "    <tr>\n",
       "      <th>47</th>\n",
       "      <td>524</td>\n",
       "      <td>565.194696</td>\n",
       "    </tr>\n",
       "    <tr>\n",
       "      <th>16</th>\n",
       "      <td>603</td>\n",
       "      <td>594.553023</td>\n",
       "    </tr>\n",
       "    <tr>\n",
       "      <th>36</th>\n",
       "      <td>640</td>\n",
       "      <td>628.443742</td>\n",
       "    </tr>\n",
       "    <tr>\n",
       "      <th>43</th>\n",
       "      <td>591</td>\n",
       "      <td>566.592619</td>\n",
       "    </tr>\n",
       "    <tr>\n",
       "      <th>0</th>\n",
       "      <td>541</td>\n",
       "      <td>529.192613</td>\n",
       "    </tr>\n",
       "    <tr>\n",
       "      <th>4</th>\n",
       "      <td>410</td>\n",
       "      <td>545.122295</td>\n",
       "    </tr>\n",
       "    <tr>\n",
       "      <th>26</th>\n",
       "      <td>577</td>\n",
       "      <td>588.851701</td>\n",
       "    </tr>\n",
       "    <tr>\n",
       "      <th>11</th>\n",
       "      <td>471</td>\n",
       "      <td>428.568328</td>\n",
       "    </tr>\n",
       "    <tr>\n",
       "      <th>2</th>\n",
       "      <td>561</td>\n",
       "      <td>584.838768</td>\n",
       "    </tr>\n",
       "    <tr>\n",
       "      <th>28</th>\n",
       "      <td>574</td>\n",
       "      <td>558.416002</td>\n",
       "    </tr>\n",
       "  </tbody>\n",
       "</table>\n",
       "</div>"
      ],
      "text/plain": [
       "    y_test        pred\n",
       "47     524  565.194696\n",
       "16     603  594.553023\n",
       "36     640  628.443742\n",
       "43     591  566.592619\n",
       "0      541  529.192613\n",
       "4      410  545.122295\n",
       "26     577  588.851701\n",
       "11     471  428.568328\n",
       "2      561  584.838768\n",
       "28     574  558.416002"
      ]
     },
     "execution_count": 15,
     "metadata": {},
     "output_type": "execute_result"
    }
   ],
   "source": [
    "df_pred = pd.DataFrame({'y_test':y_test, 'pred': y_pred})\n",
    "df_pred"
   ]
  },
  {
   "cell_type": "code",
   "execution_count": 16,
   "id": "4f63e9db",
   "metadata": {
    "execution": {
     "iopub.execute_input": "2024-02-18T12:44:54.403146Z",
     "iopub.status.busy": "2024-02-18T12:44:54.402707Z",
     "iopub.status.idle": "2024-02-18T12:44:54.410187Z",
     "shell.execute_reply": "2024-02-18T12:44:54.409061Z"
    },
    "papermill": {
     "duration": 0.021518,
     "end_time": "2024-02-18T12:44:54.413021",
     "exception": false,
     "start_time": "2024-02-18T12:44:54.391503",
     "status": "completed"
    },
    "tags": []
   },
   "outputs": [
    {
     "name": "stdout",
     "output_type": "stream",
     "text": [
      "Mean Absolute Error is: 32.6241131609734\n",
      "Root Mean Squared Error is: 48.62831282920476\n"
     ]
    }
   ],
   "source": [
    "print(f\"Mean Absolute Error is: {metrics.mean_absolute_error(y_test, y_pred)}\")\n",
    "print(f\"Root Mean Squared Error is: {metrics.mean_squared_error(y_test, y_pred, squared=False)}\")"
   ]
  }
 ],
 "metadata": {
  "kaggle": {
   "accelerator": "none",
   "dataSources": [
    {
     "datasetId": 31481,
     "sourceId": 40149,
     "sourceType": "datasetVersion"
    }
   ],
   "dockerImageVersionId": 30646,
   "isGpuEnabled": false,
   "isInternetEnabled": true,
   "language": "python",
   "sourceType": "notebook"
  },
  "kernelspec": {
   "display_name": "Python 3",
   "language": "python",
   "name": "python3"
  },
  "language_info": {
   "codemirror_mode": {
    "name": "ipython",
    "version": 3
   },
   "file_extension": ".py",
   "mimetype": "text/x-python",
   "name": "python",
   "nbconvert_exporter": "python",
   "pygments_lexer": "ipython3",
   "version": "3.10.13"
  },
  "papermill": {
   "default_parameters": {},
   "duration": 7.087294,
   "end_time": "2024-02-18T12:44:55.044382",
   "environment_variables": {},
   "exception": null,
   "input_path": "__notebook__.ipynb",
   "output_path": "__notebook__.ipynb",
   "parameters": {},
   "start_time": "2024-02-18T12:44:47.957088",
   "version": "2.5.0"
  }
 },
 "nbformat": 4,
 "nbformat_minor": 5
}
